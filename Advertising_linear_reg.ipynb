{
  "nbformat": 4,
  "nbformat_minor": 0,
  "metadata": {
    "colab": {
      "provenance": []
    },
    "kernelspec": {
      "name": "python3",
      "display_name": "Python 3"
    },
    "language_info": {
      "name": "python"
    }
  },
  "cells": [
    {
      "cell_type": "markdown",
      "source": [
        "***Linear Regression***\n",
        "--------------------------------------------------------------------\n"
      ],
      "metadata": {
        "id": "p65hDr9KC5W5"
      }
    },
    {
      "cell_type": "code",
      "execution_count": 1,
      "metadata": {
        "id": "ymD5RFlwPBNM"
      },
      "outputs": [],
      "source": [
        "import pandas as pd\n",
        "import numpy as np\n",
        "import matplotlib.pyplot as plt\n",
        "import seaborn as sns\n",
        "from google.colab import drive"
      ]
    },
    {
      "cell_type": "code",
      "source": [
        "drive.mount('/content/drive/')"
      ],
      "metadata": {
        "colab": {
          "base_uri": "https://localhost:8080/"
        },
        "id": "WmXRjdvhPODF",
        "outputId": "9c59a419-5fcc-4e2b-a055-b1a197b1dcbf"
      },
      "execution_count": 2,
      "outputs": [
        {
          "output_type": "stream",
          "name": "stdout",
          "text": [
            "Mounted at /content/drive/\n"
          ]
        }
      ]
    },
    {
      "cell_type": "code",
      "source": [
        "cd drive/MyDrive/Simplilearn/csv"
      ],
      "metadata": {
        "colab": {
          "base_uri": "https://localhost:8080/"
        },
        "id": "mnWymNXcUq1S",
        "outputId": "86b4bf6b-f8f4-4a26-e576-f18b076134d5"
      },
      "execution_count": 3,
      "outputs": [
        {
          "output_type": "stream",
          "name": "stdout",
          "text": [
            "/content/drive/MyDrive/Simplilearn/csv\n"
          ]
        }
      ]
    },
    {
      "cell_type": "code",
      "source": [
        "df_adv=pd.read_csv('Advertising.csv',index_col=0)"
      ],
      "metadata": {
        "id": "SeEkIGtpUtXx"
      },
      "execution_count": 4,
      "outputs": []
    },
    {
      "cell_type": "code",
      "source": [
        "pd.set_option('display.max_columns', None)\n",
        "pd.set_option('display.max_rows', None)"
      ],
      "metadata": {
        "id": "Pf_NjP9jVLgq"
      },
      "execution_count": 5,
      "outputs": []
    },
    {
      "cell_type": "code",
      "source": [
        "df_adv.info()"
      ],
      "metadata": {
        "colab": {
          "base_uri": "https://localhost:8080/"
        },
        "id": "k8rIJVRbLeuR",
        "outputId": "e7d17755-9dc5-4383-c901-68d3023526f5"
      },
      "execution_count": 6,
      "outputs": [
        {
          "output_type": "stream",
          "name": "stdout",
          "text": [
            "<class 'pandas.core.frame.DataFrame'>\n",
            "Int64Index: 200 entries, 1 to 200\n",
            "Data columns (total 4 columns):\n",
            " #   Column                   Non-Null Count  Dtype  \n",
            "---  ------                   --------------  -----  \n",
            " 0   TV Ad Budget ($)         200 non-null    float64\n",
            " 1   Radio Ad Budget ($)      200 non-null    float64\n",
            " 2   Newspaper Ad Budget ($)  200 non-null    float64\n",
            " 3   Sales ($)                200 non-null    float64\n",
            "dtypes: float64(4)\n",
            "memory usage: 7.8 KB\n"
          ]
        }
      ]
    },
    {
      "cell_type": "code",
      "source": [
        "df_adv.columns=['Tv','Radio','Newspaper','Sales']"
      ],
      "metadata": {
        "id": "wbt54dYZNN0t"
      },
      "execution_count": 7,
      "outputs": []
    },
    {
      "cell_type": "code",
      "source": [
        "df_adv.head()"
      ],
      "metadata": {
        "colab": {
          "base_uri": "https://localhost:8080/",
          "height": 206
        },
        "id": "HrDAdYIYLhjQ",
        "outputId": "5ea08d1d-27b8-4f9e-b57b-7331d917a816"
      },
      "execution_count": 8,
      "outputs": [
        {
          "output_type": "execute_result",
          "data": {
            "text/plain": [
              "      Tv  Radio  Newspaper  Sales\n",
              "1  230.1   37.8       69.2   22.1\n",
              "2   44.5   39.3       45.1   10.4\n",
              "3   17.2   45.9       69.3    9.3\n",
              "4  151.5   41.3       58.5   18.5\n",
              "5  180.8   10.8       58.4   12.9"
            ],
            "text/html": [
              "\n",
              "  <div id=\"df-fb98cfc0-4136-4c54-bf0d-a908c181aa3f\" class=\"colab-df-container\">\n",
              "    <div>\n",
              "<style scoped>\n",
              "    .dataframe tbody tr th:only-of-type {\n",
              "        vertical-align: middle;\n",
              "    }\n",
              "\n",
              "    .dataframe tbody tr th {\n",
              "        vertical-align: top;\n",
              "    }\n",
              "\n",
              "    .dataframe thead th {\n",
              "        text-align: right;\n",
              "    }\n",
              "</style>\n",
              "<table border=\"1\" class=\"dataframe\">\n",
              "  <thead>\n",
              "    <tr style=\"text-align: right;\">\n",
              "      <th></th>\n",
              "      <th>Tv</th>\n",
              "      <th>Radio</th>\n",
              "      <th>Newspaper</th>\n",
              "      <th>Sales</th>\n",
              "    </tr>\n",
              "  </thead>\n",
              "  <tbody>\n",
              "    <tr>\n",
              "      <th>1</th>\n",
              "      <td>230.1</td>\n",
              "      <td>37.8</td>\n",
              "      <td>69.2</td>\n",
              "      <td>22.1</td>\n",
              "    </tr>\n",
              "    <tr>\n",
              "      <th>2</th>\n",
              "      <td>44.5</td>\n",
              "      <td>39.3</td>\n",
              "      <td>45.1</td>\n",
              "      <td>10.4</td>\n",
              "    </tr>\n",
              "    <tr>\n",
              "      <th>3</th>\n",
              "      <td>17.2</td>\n",
              "      <td>45.9</td>\n",
              "      <td>69.3</td>\n",
              "      <td>9.3</td>\n",
              "    </tr>\n",
              "    <tr>\n",
              "      <th>4</th>\n",
              "      <td>151.5</td>\n",
              "      <td>41.3</td>\n",
              "      <td>58.5</td>\n",
              "      <td>18.5</td>\n",
              "    </tr>\n",
              "    <tr>\n",
              "      <th>5</th>\n",
              "      <td>180.8</td>\n",
              "      <td>10.8</td>\n",
              "      <td>58.4</td>\n",
              "      <td>12.9</td>\n",
              "    </tr>\n",
              "  </tbody>\n",
              "</table>\n",
              "</div>\n",
              "    <div class=\"colab-df-buttons\">\n",
              "\n",
              "  <div class=\"colab-df-container\">\n",
              "    <button class=\"colab-df-convert\" onclick=\"convertToInteractive('df-fb98cfc0-4136-4c54-bf0d-a908c181aa3f')\"\n",
              "            title=\"Convert this dataframe to an interactive table.\"\n",
              "            style=\"display:none;\">\n",
              "\n",
              "  <svg xmlns=\"http://www.w3.org/2000/svg\" height=\"24px\" viewBox=\"0 -960 960 960\">\n",
              "    <path d=\"M120-120v-720h720v720H120Zm60-500h600v-160H180v160Zm220 220h160v-160H400v160Zm0 220h160v-160H400v160ZM180-400h160v-160H180v160Zm440 0h160v-160H620v160ZM180-180h160v-160H180v160Zm440 0h160v-160H620v160Z\"/>\n",
              "  </svg>\n",
              "    </button>\n",
              "\n",
              "  <style>\n",
              "    .colab-df-container {\n",
              "      display:flex;\n",
              "      gap: 12px;\n",
              "    }\n",
              "\n",
              "    .colab-df-convert {\n",
              "      background-color: #E8F0FE;\n",
              "      border: none;\n",
              "      border-radius: 50%;\n",
              "      cursor: pointer;\n",
              "      display: none;\n",
              "      fill: #1967D2;\n",
              "      height: 32px;\n",
              "      padding: 0 0 0 0;\n",
              "      width: 32px;\n",
              "    }\n",
              "\n",
              "    .colab-df-convert:hover {\n",
              "      background-color: #E2EBFA;\n",
              "      box-shadow: 0px 1px 2px rgba(60, 64, 67, 0.3), 0px 1px 3px 1px rgba(60, 64, 67, 0.15);\n",
              "      fill: #174EA6;\n",
              "    }\n",
              "\n",
              "    .colab-df-buttons div {\n",
              "      margin-bottom: 4px;\n",
              "    }\n",
              "\n",
              "    [theme=dark] .colab-df-convert {\n",
              "      background-color: #3B4455;\n",
              "      fill: #D2E3FC;\n",
              "    }\n",
              "\n",
              "    [theme=dark] .colab-df-convert:hover {\n",
              "      background-color: #434B5C;\n",
              "      box-shadow: 0px 1px 3px 1px rgba(0, 0, 0, 0.15);\n",
              "      filter: drop-shadow(0px 1px 2px rgba(0, 0, 0, 0.3));\n",
              "      fill: #FFFFFF;\n",
              "    }\n",
              "  </style>\n",
              "\n",
              "    <script>\n",
              "      const buttonEl =\n",
              "        document.querySelector('#df-fb98cfc0-4136-4c54-bf0d-a908c181aa3f button.colab-df-convert');\n",
              "      buttonEl.style.display =\n",
              "        google.colab.kernel.accessAllowed ? 'block' : 'none';\n",
              "\n",
              "      async function convertToInteractive(key) {\n",
              "        const element = document.querySelector('#df-fb98cfc0-4136-4c54-bf0d-a908c181aa3f');\n",
              "        const dataTable =\n",
              "          await google.colab.kernel.invokeFunction('convertToInteractive',\n",
              "                                                    [key], {});\n",
              "        if (!dataTable) return;\n",
              "\n",
              "        const docLinkHtml = 'Like what you see? Visit the ' +\n",
              "          '<a target=\"_blank\" href=https://colab.research.google.com/notebooks/data_table.ipynb>data table notebook</a>'\n",
              "          + ' to learn more about interactive tables.';\n",
              "        element.innerHTML = '';\n",
              "        dataTable['output_type'] = 'display_data';\n",
              "        await google.colab.output.renderOutput(dataTable, element);\n",
              "        const docLink = document.createElement('div');\n",
              "        docLink.innerHTML = docLinkHtml;\n",
              "        element.appendChild(docLink);\n",
              "      }\n",
              "    </script>\n",
              "  </div>\n",
              "\n",
              "\n",
              "<div id=\"df-ff330af1-a0e0-48f9-86e2-819e36c3bc1c\">\n",
              "  <button class=\"colab-df-quickchart\" onclick=\"quickchart('df-ff330af1-a0e0-48f9-86e2-819e36c3bc1c')\"\n",
              "            title=\"Suggest charts\"\n",
              "            style=\"display:none;\">\n",
              "\n",
              "<svg xmlns=\"http://www.w3.org/2000/svg\" height=\"24px\"viewBox=\"0 0 24 24\"\n",
              "     width=\"24px\">\n",
              "    <g>\n",
              "        <path d=\"M19 3H5c-1.1 0-2 .9-2 2v14c0 1.1.9 2 2 2h14c1.1 0 2-.9 2-2V5c0-1.1-.9-2-2-2zM9 17H7v-7h2v7zm4 0h-2V7h2v10zm4 0h-2v-4h2v4z\"/>\n",
              "    </g>\n",
              "</svg>\n",
              "  </button>\n",
              "\n",
              "<style>\n",
              "  .colab-df-quickchart {\n",
              "      --bg-color: #E8F0FE;\n",
              "      --fill-color: #1967D2;\n",
              "      --hover-bg-color: #E2EBFA;\n",
              "      --hover-fill-color: #174EA6;\n",
              "      --disabled-fill-color: #AAA;\n",
              "      --disabled-bg-color: #DDD;\n",
              "  }\n",
              "\n",
              "  [theme=dark] .colab-df-quickchart {\n",
              "      --bg-color: #3B4455;\n",
              "      --fill-color: #D2E3FC;\n",
              "      --hover-bg-color: #434B5C;\n",
              "      --hover-fill-color: #FFFFFF;\n",
              "      --disabled-bg-color: #3B4455;\n",
              "      --disabled-fill-color: #666;\n",
              "  }\n",
              "\n",
              "  .colab-df-quickchart {\n",
              "    background-color: var(--bg-color);\n",
              "    border: none;\n",
              "    border-radius: 50%;\n",
              "    cursor: pointer;\n",
              "    display: none;\n",
              "    fill: var(--fill-color);\n",
              "    height: 32px;\n",
              "    padding: 0;\n",
              "    width: 32px;\n",
              "  }\n",
              "\n",
              "  .colab-df-quickchart:hover {\n",
              "    background-color: var(--hover-bg-color);\n",
              "    box-shadow: 0 1px 2px rgba(60, 64, 67, 0.3), 0 1px 3px 1px rgba(60, 64, 67, 0.15);\n",
              "    fill: var(--button-hover-fill-color);\n",
              "  }\n",
              "\n",
              "  .colab-df-quickchart-complete:disabled,\n",
              "  .colab-df-quickchart-complete:disabled:hover {\n",
              "    background-color: var(--disabled-bg-color);\n",
              "    fill: var(--disabled-fill-color);\n",
              "    box-shadow: none;\n",
              "  }\n",
              "\n",
              "  .colab-df-spinner {\n",
              "    border: 2px solid var(--fill-color);\n",
              "    border-color: transparent;\n",
              "    border-bottom-color: var(--fill-color);\n",
              "    animation:\n",
              "      spin 1s steps(1) infinite;\n",
              "  }\n",
              "\n",
              "  @keyframes spin {\n",
              "    0% {\n",
              "      border-color: transparent;\n",
              "      border-bottom-color: var(--fill-color);\n",
              "      border-left-color: var(--fill-color);\n",
              "    }\n",
              "    20% {\n",
              "      border-color: transparent;\n",
              "      border-left-color: var(--fill-color);\n",
              "      border-top-color: var(--fill-color);\n",
              "    }\n",
              "    30% {\n",
              "      border-color: transparent;\n",
              "      border-left-color: var(--fill-color);\n",
              "      border-top-color: var(--fill-color);\n",
              "      border-right-color: var(--fill-color);\n",
              "    }\n",
              "    40% {\n",
              "      border-color: transparent;\n",
              "      border-right-color: var(--fill-color);\n",
              "      border-top-color: var(--fill-color);\n",
              "    }\n",
              "    60% {\n",
              "      border-color: transparent;\n",
              "      border-right-color: var(--fill-color);\n",
              "    }\n",
              "    80% {\n",
              "      border-color: transparent;\n",
              "      border-right-color: var(--fill-color);\n",
              "      border-bottom-color: var(--fill-color);\n",
              "    }\n",
              "    90% {\n",
              "      border-color: transparent;\n",
              "      border-bottom-color: var(--fill-color);\n",
              "    }\n",
              "  }\n",
              "</style>\n",
              "\n",
              "  <script>\n",
              "    async function quickchart(key) {\n",
              "      const quickchartButtonEl =\n",
              "        document.querySelector('#' + key + ' button');\n",
              "      quickchartButtonEl.disabled = true;  // To prevent multiple clicks.\n",
              "      quickchartButtonEl.classList.add('colab-df-spinner');\n",
              "      try {\n",
              "        const charts = await google.colab.kernel.invokeFunction(\n",
              "            'suggestCharts', [key], {});\n",
              "      } catch (error) {\n",
              "        console.error('Error during call to suggestCharts:', error);\n",
              "      }\n",
              "      quickchartButtonEl.classList.remove('colab-df-spinner');\n",
              "      quickchartButtonEl.classList.add('colab-df-quickchart-complete');\n",
              "    }\n",
              "    (() => {\n",
              "      let quickchartButtonEl =\n",
              "        document.querySelector('#df-ff330af1-a0e0-48f9-86e2-819e36c3bc1c button');\n",
              "      quickchartButtonEl.style.display =\n",
              "        google.colab.kernel.accessAllowed ? 'block' : 'none';\n",
              "    })();\n",
              "  </script>\n",
              "</div>\n",
              "\n",
              "    </div>\n",
              "  </div>\n"
            ]
          },
          "metadata": {},
          "execution_count": 8
        }
      ]
    },
    {
      "cell_type": "code",
      "source": [
        "df_adv.isnull().sum()"
      ],
      "metadata": {
        "colab": {
          "base_uri": "https://localhost:8080/"
        },
        "id": "4R6aJNclLj22",
        "outputId": "ef5750a3-cc34-45f5-c1ff-51c2102df437"
      },
      "execution_count": 9,
      "outputs": [
        {
          "output_type": "execute_result",
          "data": {
            "text/plain": [
              "Tv           0\n",
              "Radio        0\n",
              "Newspaper    0\n",
              "Sales        0\n",
              "dtype: int64"
            ]
          },
          "metadata": {},
          "execution_count": 9
        }
      ]
    },
    {
      "cell_type": "code",
      "source": [
        "plt.figure(figsize=(5,3))\n",
        "plt.scatter(df_adv['Tv'],df_adv['Sales'])\n",
        "plt.xlabel('Tv')\n",
        "plt.ylabel('Sales')\n",
        "plt.show()"
      ],
      "metadata": {
        "colab": {
          "base_uri": "https://localhost:8080/",
          "height": 311
        },
        "id": "bS4OF9y6Mf3-",
        "outputId": "36910b6b-bbed-43af-8275-31b357309b8f"
      },
      "execution_count": 10,
      "outputs": [
        {
          "output_type": "display_data",
          "data": {
            "text/plain": [
              "<Figure size 500x300 with 1 Axes>"
            ],
            "image/png": "[encoded data removed]"
          },
          "metadata": {}
        }
      ]
    },
    {
      "cell_type": "markdown",
      "source": [
        "## splitting the data"
      ],
      "metadata": {
        "id": "8lnpd4B9PFYX"
      }
    },
    {
      "cell_type": "code",
      "source": [
        "from sklearn.model_selection import train_test_split\n",
        "\n",
        "X=df_adv['Tv']\n",
        "y=df_adv['Sales']\n",
        "\n",
        "x_train,x_test,y_train,y_test = train_test_split(X,y,test_size=0.3,random_state=42)\n"
      ],
      "metadata": {
        "id": "i_t_zcJVMemo"
      },
      "execution_count": 11,
      "outputs": []
    },
    {
      "cell_type": "code",
      "source": [
        "x_train.shape,y_train.shape"
      ],
      "metadata": {
        "colab": {
          "base_uri": "https://localhost:8080/"
        },
        "id": "JfYb-ywFPuOa",
        "outputId": "0f45b78f-c2f3-4806-ea5a-3324f1942d4a"
      },
      "execution_count": 12,
      "outputs": [
        {
          "output_type": "execute_result",
          "data": {
            "text/plain": [
              "((140,), (140,))"
            ]
          },
          "metadata": {},
          "execution_count": 12
        }
      ]
    },
    {
      "cell_type": "code",
      "source": [
        "x_train=x_train.values.reshape(-1,1)\n",
        "y_train=y_train.values.reshape(-1,1)"
      ],
      "metadata": {
        "id": "r7UnP8oOTaNw"
      },
      "execution_count": 13,
      "outputs": []
    },
    {
      "cell_type": "code",
      "source": [
        "from sklearn.linear_model import LinearRegression\n",
        "from sklearn.metrics import mean_absolute_error\n",
        "lin_reg = LinearRegression()\n",
        "lin_reg.fit(x_train,y_train)\n",
        "y_pred = lin_reg.predict(x_test.values.reshape(-1,1))\n",
        "print(lin_reg.coef_,lin_reg.intercept_)\n",
        "\n",
        "print(\"MAE : \",mean_absolute_error(y_test,y_pred))\n"
      ],
      "metadata": {
        "colab": {
          "base_uri": "https://localhost:8080/"
        },
        "id": "Ef5Laar8O0Vd",
        "outputId": "77452027-7525-4a8f-e305-ed5cf42db2d6"
      },
      "execution_count": 14,
      "outputs": [
        {
          "output_type": "stream",
          "name": "stdout",
          "text": [
            "[[0.0464078]] [7.23945983]\n",
            "MAE :  2.2758809050205113\n"
          ]
        }
      ]
    },
    {
      "cell_type": "code",
      "source": [
        "lin_reg = LinearRegression()\n",
        "lin_reg.fit(x_train,y_train)\n",
        "y_pred = lin_reg.predict(x_test.values.reshape(-1,1))\n",
        "print(lin_reg.coef_,lin_reg.intercept_)\n",
        "\n"
      ],
      "metadata": {
        "colab": {
          "base_uri": "https://localhost:8080/"
        },
        "id": "FzsWqgGIP040",
        "outputId": "beec9a5d-ecb4-4c61-8064-54ed96650887"
      },
      "execution_count": 15,
      "outputs": [
        {
          "output_type": "stream",
          "name": "stdout",
          "text": [
            "[[0.0464078]] [7.23945983]\n"
          ]
        }
      ]
    },
    {
      "cell_type": "code",
      "source": [
        "y_test_pred = lin_reg.predict(x_test.values.reshape(-1,1))\n",
        "y_train_pred=lin_reg.predict(x_train)\n",
        "\n",
        "mae_test = mean_absolute_error(y_test,y_test_pred)\n",
        "mae_train = mean_absolute_error(y_train,y_train_pred)"
      ],
      "metadata": {
        "id": "SEO2ik1d0H-q"
      },
      "execution_count": 16,
      "outputs": []
    },
    {
      "cell_type": "code",
      "source": [
        "from sklearn.metrics import r2_score\n",
        "print(f'Performance on test data {mae_test},{r2_score(y_test,y_test_pred)}')\n",
        "print(f'Performance on train data {mae_train},{r2_score(y_train,y_train_pred)}')\n"
      ],
      "metadata": {
        "colab": {
          "base_uri": "https://localhost:8080/"
        },
        "id": "DheiaKtp1fwg",
        "outputId": "8e315b3c-cb56-46ad-94e3-710764d2b1fd"
      },
      "execution_count": 17,
      "outputs": [
        {
          "output_type": "stream",
          "name": "stdout",
          "text": [
            "Performance on test data 2.2758809050205113,0.6714477229302764\n",
            "Performance on train data 2.682626763698036,0.5736021199591975\n"
          ]
        }
      ]
    },
    {
      "cell_type": "markdown",
      "source": [
        "####\n",
        "* By observing the metrics we can say that the model is optimal , as the test and train error's are almost close by."
      ],
      "metadata": {
        "id": "GiImb1w32Rvl"
      }
    },
    {
      "cell_type": "code",
      "source": [
        "x= np.linspace(0,300,100)\n",
        "\n",
        "m=lin_reg.coef_[0]\n",
        "c= lin_reg.intercept_\n",
        "\n",
        "y =(m*x)+c\n",
        "\n",
        "plt.figure(figsize=(10,5))\n",
        "\n",
        "## plotting the test, train data\n",
        "plt.plot(x_train,y_train,'b.')\n",
        "plt.plot(x_test,y_test,'g.')\n",
        "\n",
        "## plot the y =mx+c\n",
        "plt.plot(x,y,'r-')\n",
        "\n",
        "plt.show()"
      ],
      "metadata": {
        "colab": {
          "base_uri": "https://localhost:8080/",
          "height": 445
        },
        "id": "Fl57Ey3o1kGS",
        "outputId": "18fa6e72-4e29-4f11-8334-eb40cb3bd53e"
      },
      "execution_count": 18,
      "outputs": [
        {
          "output_type": "display_data",
          "data": {
            "text/plain": [
              "<Figure size 1000x500 with 1 Axes>"
            ],
            "image/png": "[encoded data removed]"
          },
          "metadata": {}
        }
      ]
    },
    {
      "cell_type": "markdown",
      "source": [
        "#### Multiple Linear Regression\n"
      ],
      "metadata": {
        "id": "AY0IF8Q1BzNK"
      }
    },
    {
      "cell_type": "code",
      "source": [
        "X = df_adv.drop(columns='Sales')\n",
        "y= df_adv['Sales']"
      ],
      "metadata": {
        "id": "VbFP0tMFAHL0"
      },
      "execution_count": 19,
      "outputs": []
    },
    {
      "cell_type": "code",
      "source": [
        "x_train,x_test,y_train,y_test = train_test_split(X,y,test_size=0.3,random_state=42)\n",
        "\n",
        "lin_reg = LinearRegression()\n",
        "lin_reg.fit(x_train,y_train)\n",
        "y_pred = lin_reg.predict(x_test)\n",
        "print(lin_reg.coef_,lin_reg.intercept_)\n",
        "\n",
        "print(\"MAE : \",mean_absolute_error(y_test,y_pred))"
      ],
      "metadata": {
        "colab": {
          "base_uri": "https://localhost:8080/"
        },
        "id": "OhkDXqpFCKlQ",
        "outputId": "89dff4ec-dc6c-496a-cd19-5c54b0b69954"
      },
      "execution_count": 20,
      "outputs": [
        {
          "output_type": "stream",
          "name": "stdout",
          "text": [
            "[0.04405928 0.1992875  0.00688245] 2.7089490925159065\n",
            "MAE :  1.5116692224549086\n"
          ]
        }
      ]
    },
    {
      "cell_type": "markdown",
      "source": [],
      "metadata": {
        "id": "790CFrqrClcQ"
      }
    },
    {
      "cell_type": "code",
      "source": [
        "y_test_pred = lin_reg.predict(x_test)\n",
        "y_train_pred=lin_reg.predict(x_train)\n",
        "\n",
        "mae_test = mean_absolute_error(y_test,y_test_pred)\n",
        "mae_train = mean_absolute_error(y_train,y_train_pred)"
      ],
      "metadata": {
        "id": "V19-2CPED5q5"
      },
      "execution_count": 21,
      "outputs": []
    },
    {
      "cell_type": "code",
      "source": [
        "from sklearn.metrics import r2_score\n",
        "print(f'Performance on test data {mae_test},{r2_score(y_test,y_test_pred)}')\n",
        "print(f'Performance on train data {mae_train},{r2_score(y_train,y_train_pred)}')\n"
      ],
      "metadata": {
        "colab": {
          "base_uri": "https://localhost:8080/"
        },
        "outputId": "7d68e82d-8cc5-4524-e34c-966ecebcf40a",
        "id": "41G2ze5wD5rB"
      },
      "execution_count": 22,
      "outputs": [
        {
          "output_type": "stream",
          "name": "stdout",
          "text": [
            "Performance on test data 1.5116692224549086,0.8609466508230368\n",
            "Performance on train data 1.1581502948072526,0.9055159502227753\n"
          ]
        }
      ]
    },
    {
      "cell_type": "code",
      "source": [
        "from sklearn.linear_model import SGDRegressor\n",
        "\n",
        "sgd_reg = SGDRegressor()\n",
        "sgd_reg.fit(x_train,y_train)\n",
        "y_pred = sgd_reg.predict(x_test)\n",
        "print(sgd_reg.coef_,sgd_reg.intercept_)\n",
        "\n"
      ],
      "metadata": {
        "colab": {
          "base_uri": "https://localhost:8080/"
        },
        "id": "OAUol2l-EMKs",
        "outputId": "211a09b6-3268-47a7-8a3f-bbe9459979e1"
      },
      "execution_count": 23,
      "outputs": [
        {
          "output_type": "stream",
          "name": "stdout",
          "text": [
            "[-1.21166165e+10 -1.88896576e+10 -9.73671757e+10] [2.28780097e+10]\n"
          ]
        }
      ]
    },
    {
      "cell_type": "markdown",
      "source": [
        "#### Stochastic gradient Descent with l2 regularization"
      ],
      "metadata": {
        "id": "8MVnK1mFFQKS"
      }
    },
    {
      "cell_type": "code",
      "source": [
        "sgd_reg = SGDRegressor(max_iter=1000,penalty='l2',alpha=0.1,n_iter_no_change=30,random_state=42)\n",
        "sgd_reg.fit(x_train,y_train)\n",
        "y_pred = sgd_reg.predict(x_test)\n",
        "print(sgd_reg.coef_,sgd_reg.intercept_)"
      ],
      "metadata": {
        "colab": {
          "base_uri": "https://localhost:8080/"
        },
        "id": "hnUYemYSEn75",
        "outputId": "4b06d7f5-3942-41b7-85ce-ebdfebe8a9be"
      },
      "execution_count": 24,
      "outputs": [
        {
          "output_type": "stream",
          "name": "stdout",
          "text": [
            "[-9.32276344e+10  8.82448882e+10 -2.25891132e+10] [-1.02418702e+10]\n"
          ]
        }
      ]
    },
    {
      "cell_type": "code",
      "source": [],
      "metadata": {
        "id": "8FaqdCRAGEFu"
      },
      "execution_count": 24,
      "outputs": []
    },
    {
      "cell_type": "code",
      "source": [
        "y_test_pred = sgd_reg.predict(x_test)\n",
        "y_train_pred=sgd_reg.predict(x_train)\n",
        "\n",
        "mae_test = mean_absolute_error(y_test,y_test_pred)\n",
        "mae_train = mean_absolute_error(y_train,y_train_pred)"
      ],
      "metadata": {
        "id": "cBKVQhKUGEUc"
      },
      "execution_count": 25,
      "outputs": []
    },
    {
      "cell_type": "code",
      "source": [
        "from sklearn.metrics import r2_score\n",
        "print(f'Performance on test data {mae_test},{r2_score(y_test,y_test_pred)}')\n",
        "print(f'Performance on train data {mae_train},{r2_score(y_train,y_train_pred)}')\n"
      ],
      "metadata": {
        "colab": {
          "base_uri": "https://localhost:8080/"
        },
        "outputId": "07479eb8-dd56-45ad-f28b-b761f6f1bdf9",
        "id": "bDqhLNRNGEUc"
      },
      "execution_count": 26,
      "outputs": [
        {
          "output_type": "stream",
          "name": "stdout",
          "text": [
            "Performance on test data 10684140008785.465,-6.399057205425376e+24\n",
            "Performance on train data 13295899914464.66,-8.971238532048859e+24\n"
          ]
        }
      ]
    },
    {
      "cell_type": "markdown",
      "source": [
        "## Linear Regression with categorical variables\n",
        "------------------------------------------------\n",
        "\n",
        "* Models dont understand the string/text values we need to convert them into numerical values. Converting string /text to numerical values is called Encoding.\n",
        "\n",
        "    * Label Encoding: will convert the text or string data to numerical values 0 ,1,2, ....n-1\n",
        "      * n represents the number of unique values in the feature column.\n",
        "        Eg : we have Male,Female then 0,1\n",
        "            Red,yellow,bluee,green,   then 0,1,2,3\n",
        "\n",
        "    *One-hot encoding : will give the binary values or array of binary values.\n",
        "        * F,M --> [0,1] [1,0]\n",
        "\n",
        "        * R,G,B,Y ---> [1 0 0 0] ,[0 1 0 0],[0 0 1 0],[0 0 0 1]"
      ],
      "metadata": {
        "id": "5zf7tBgg_rMF"
      }
    },
    {
      "cell_type": "code",
      "source": [
        "df_adv.head()"
      ],
      "metadata": {
        "colab": {
          "base_uri": "https://localhost:8080/",
          "height": 206
        },
        "id": "8WG2S4Rj_c3F",
        "outputId": "59bac462-b2be-41cf-fd3f-d72036228036"
      },
      "execution_count": 27,
      "outputs": [
        {
          "output_type": "execute_result",
          "data": {
            "text/plain": [
              "      Tv  Radio  Newspaper  Sales\n",
              "1  230.1   37.8       69.2   22.1\n",
              "2   44.5   39.3       45.1   10.4\n",
              "3   17.2   45.9       69.3    9.3\n",
              "4  151.5   41.3       58.5   18.5\n",
              "5  180.8   10.8       58.4   12.9"
            ],
            "text/html": [
              "\n",
              "  <div id=\"df-e35f0bb3-e613-41d1-8e29-eef716ce139d\" class=\"colab-df-container\">\n",
              "    <div>\n",
              "<style scoped>\n",
              "    .dataframe tbody tr th:only-of-type {\n",
              "        vertical-align: middle;\n",
              "    }\n",
              "\n",
              "    .dataframe tbody tr th {\n",
              "        vertical-align: top;\n",
              "    }\n",
              "\n",
              "    .dataframe thead th {\n",
              "        text-align: right;\n",
              "    }\n",
              "</style>\n",
              "<table border=\"1\" class=\"dataframe\">\n",
              "  <thead>\n",
              "    <tr style=\"text-align: right;\">\n",
              "      <th></th>\n",
              "      <th>Tv</th>\n",
              "      <th>Radio</th>\n",
              "      <th>Newspaper</th>\n",
              "      <th>Sales</th>\n",
              "    </tr>\n",
              "  </thead>\n",
              "  <tbody>\n",
              "    <tr>\n",
              "      <th>1</th>\n",
              "      <td>230.1</td>\n",
              "      <td>37.8</td>\n",
              "      <td>69.2</td>\n",
              "      <td>22.1</td>\n",
              "    </tr>\n",
              "    <tr>\n",
              "      <th>2</th>\n",
              "      <td>44.5</td>\n",
              "      <td>39.3</td>\n",
              "      <td>45.1</td>\n",
              "      <td>10.4</td>\n",
              "    </tr>\n",
              "    <tr>\n",
              "      <th>3</th>\n",
              "      <td>17.2</td>\n",
              "      <td>45.9</td>\n",
              "      <td>69.3</td>\n",
              "      <td>9.3</td>\n",
              "    </tr>\n",
              "    <tr>\n",
              "      <th>4</th>\n",
              "      <td>151.5</td>\n",
              "      <td>41.3</td>\n",
              "      <td>58.5</td>\n",
              "      <td>18.5</td>\n",
              "    </tr>\n",
              "    <tr>\n",
              "      <th>5</th>\n",
              "      <td>180.8</td>\n",
              "      <td>10.8</td>\n",
              "      <td>58.4</td>\n",
              "      <td>12.9</td>\n",
              "    </tr>\n",
              "  </tbody>\n",
              "</table>\n",
              "</div>\n",
              "    <div class=\"colab-df-buttons\">\n",
              "\n",
              "  <div class=\"colab-df-container\">\n",
              "    <button class=\"colab-df-convert\" onclick=\"convertToInteractive('df-e35f0bb3-e613-41d1-8e29-eef716ce139d')\"\n",
              "            title=\"Convert this dataframe to an interactive table.\"\n",
              "            style=\"display:none;\">\n",
              "\n",
              "  <svg xmlns=\"http://www.w3.org/2000/svg\" height=\"24px\" viewBox=\"0 -960 960 960\">\n",
              "    <path d=\"M120-120v-720h720v720H120Zm60-500h600v-160H180v160Zm220 220h160v-160H400v160Zm0 220h160v-160H400v160ZM180-400h160v-160H180v160Zm440 0h160v-160H620v160ZM180-180h160v-160H180v160Zm440 0h160v-160H620v160Z\"/>\n",
              "  </svg>\n",
              "    </button>\n",
              "\n",
              "  <style>\n",
              "    .colab-df-container {\n",
              "      display:flex;\n",
              "      gap: 12px;\n",
              "    }\n",
              "\n",
              "    .colab-df-convert {\n",
              "      background-color: #E8F0FE;\n",
              "      border: none;\n",
              "      border-radius: 50%;\n",
              "      cursor: pointer;\n",
              "      display: none;\n",
              "      fill: #1967D2;\n",
              "      height: 32px;\n",
              "      padding: 0 0 0 0;\n",
              "      width: 32px;\n",
              "    }\n",
              "\n",
              "    .colab-df-convert:hover {\n",
              "      background-color: #E2EBFA;\n",
              "      box-shadow: 0px 1px 2px rgba(60, 64, 67, 0.3), 0px 1px 3px 1px rgba(60, 64, 67, 0.15);\n",
              "      fill: #174EA6;\n",
              "    }\n",
              "\n",
              "    .colab-df-buttons div {\n",
              "      margin-bottom: 4px;\n",
              "    }\n",
              "\n",
              "    [theme=dark] .colab-df-convert {\n",
              "      background-color: #3B4455;\n",
              "      fill: #D2E3FC;\n",
              "    }\n",
              "\n",
              "    [theme=dark] .colab-df-convert:hover {\n",
              "      background-color: #434B5C;\n",
              "      box-shadow: 0px 1px 3px 1px rgba(0, 0, 0, 0.15);\n",
              "      filter: drop-shadow(0px 1px 2px rgba(0, 0, 0, 0.3));\n",
              "      fill: #FFFFFF;\n",
              "    }\n",
              "  </style>\n",
              "\n",
              "    <script>\n",
              "      const buttonEl =\n",
              "        document.querySelector('#df-e35f0bb3-e613-41d1-8e29-eef716ce139d button.colab-df-convert');\n",
              "      buttonEl.style.display =\n",
              "        google.colab.kernel.accessAllowed ? 'block' : 'none';\n",
              "\n",
              "      async function convertToInteractive(key) {\n",
              "        const element = document.querySelector('#df-e35f0bb3-e613-41d1-8e29-eef716ce139d');\n",
              "        const dataTable =\n",
              "          await google.colab.kernel.invokeFunction('convertToInteractive',\n",
              "                                                    [key], {});\n",
              "        if (!dataTable) return;\n",
              "\n",
              "        const docLinkHtml = 'Like what you see? Visit the ' +\n",
              "          '<a target=\"_blank\" href=https://colab.research.google.com/notebooks/data_table.ipynb>data table notebook</a>'\n",
              "          + ' to learn more about interactive tables.';\n",
              "        element.innerHTML = '';\n",
              "        dataTable['output_type'] = 'display_data';\n",
              "        await google.colab.output.renderOutput(dataTable, element);\n",
              "        const docLink = document.createElement('div');\n",
              "        docLink.innerHTML = docLinkHtml;\n",
              "        element.appendChild(docLink);\n",
              "      }\n",
              "    </script>\n",
              "  </div>\n",
              "\n",
              "\n",
              "<div id=\"df-bb6e52e9-4104-479f-b71d-c901aabe2123\">\n",
              "  <button class=\"colab-df-quickchart\" onclick=\"quickchart('df-bb6e52e9-4104-479f-b71d-c901aabe2123')\"\n",
              "            title=\"Suggest charts\"\n",
              "            style=\"display:none;\">\n",
              "\n",
              "<svg xmlns=\"http://www.w3.org/2000/svg\" height=\"24px\"viewBox=\"0 0 24 24\"\n",
              "     width=\"24px\">\n",
              "    <g>\n",
              "        <path d=\"M19 3H5c-1.1 0-2 .9-2 2v14c0 1.1.9 2 2 2h14c1.1 0 2-.9 2-2V5c0-1.1-.9-2-2-2zM9 17H7v-7h2v7zm4 0h-2V7h2v10zm4 0h-2v-4h2v4z\"/>\n",
              "    </g>\n",
              "</svg>\n",
              "  </button>\n",
              "\n",
              "<style>\n",
              "  .colab-df-quickchart {\n",
              "      --bg-color: #E8F0FE;\n",
              "      --fill-color: #1967D2;\n",
              "      --hover-bg-color: #E2EBFA;\n",
              "      --hover-fill-color: #174EA6;\n",
              "      --disabled-fill-color: #AAA;\n",
              "      --disabled-bg-color: #DDD;\n",
              "  }\n",
              "\n",
              "  [theme=dark] .colab-df-quickchart {\n",
              "      --bg-color: #3B4455;\n",
              "      --fill-color: #D2E3FC;\n",
              "      --hover-bg-color: #434B5C;\n",
              "      --hover-fill-color: #FFFFFF;\n",
              "      --disabled-bg-color: #3B4455;\n",
              "      --disabled-fill-color: #666;\n",
              "  }\n",
              "\n",
              "  .colab-df-quickchart {\n",
              "    background-color: var(--bg-color);\n",
              "    border: none;\n",
              "    border-radius: 50%;\n",
              "    cursor: pointer;\n",
              "    display: none;\n",
              "    fill: var(--fill-color);\n",
              "    height: 32px;\n",
              "    padding: 0;\n",
              "    width: 32px;\n",
              "  }\n",
              "\n",
              "  .colab-df-quickchart:hover {\n",
              "    background-color: var(--hover-bg-color);\n",
              "    box-shadow: 0 1px 2px rgba(60, 64, 67, 0.3), 0 1px 3px 1px rgba(60, 64, 67, 0.15);\n",
              "    fill: var(--button-hover-fill-color);\n",
              "  }\n",
              "\n",
              "  .colab-df-quickchart-complete:disabled,\n",
              "  .colab-df-quickchart-complete:disabled:hover {\n",
              "    background-color: var(--disabled-bg-color);\n",
              "    fill: var(--disabled-fill-color);\n",
              "    box-shadow: none;\n",
              "  }\n",
              "\n",
              "  .colab-df-spinner {\n",
              "    border: 2px solid var(--fill-color);\n",
              "    border-color: transparent;\n",
              "    border-bottom-color: var(--fill-color);\n",
              "    animation:\n",
              "      spin 1s steps(1) infinite;\n",
              "  }\n",
              "\n",
              "  @keyframes spin {\n",
              "    0% {\n",
              "      border-color: transparent;\n",
              "      border-bottom-color: var(--fill-color);\n",
              "      border-left-color: var(--fill-color);\n",
              "    }\n",
              "    20% {\n",
              "      border-color: transparent;\n",
              "      border-left-color: var(--fill-color);\n",
              "      border-top-color: var(--fill-color);\n",
              "    }\n",
              "    30% {\n",
              "      border-color: transparent;\n",
              "      border-left-color: var(--fill-color);\n",
              "      border-top-color: var(--fill-color);\n",
              "      border-right-color: var(--fill-color);\n",
              "    }\n",
              "    40% {\n",
              "      border-color: transparent;\n",
              "      border-right-color: var(--fill-color);\n",
              "      border-top-color: var(--fill-color);\n",
              "    }\n",
              "    60% {\n",
              "      border-color: transparent;\n",
              "      border-right-color: var(--fill-color);\n",
              "    }\n",
              "    80% {\n",
              "      border-color: transparent;\n",
              "      border-right-color: var(--fill-color);\n",
              "      border-bottom-color: var(--fill-color);\n",
              "    }\n",
              "    90% {\n",
              "      border-color: transparent;\n",
              "      border-bottom-color: var(--fill-color);\n",
              "    }\n",
              "  }\n",
              "</style>\n",
              "\n",
              "  <script>\n",
              "    async function quickchart(key) {\n",
              "      const quickchartButtonEl =\n",
              "        document.querySelector('#' + key + ' button');\n",
              "      quickchartButtonEl.disabled = true;  // To prevent multiple clicks.\n",
              "      quickchartButtonEl.classList.add('colab-df-spinner');\n",
              "      try {\n",
              "        const charts = await google.colab.kernel.invokeFunction(\n",
              "            'suggestCharts', [key], {});\n",
              "      } catch (error) {\n",
              "        console.error('Error during call to suggestCharts:', error);\n",
              "      }\n",
              "      quickchartButtonEl.classList.remove('colab-df-spinner');\n",
              "      quickchartButtonEl.classList.add('colab-df-quickchart-complete');\n",
              "    }\n",
              "    (() => {\n",
              "      let quickchartButtonEl =\n",
              "        document.querySelector('#df-bb6e52e9-4104-479f-b71d-c901aabe2123 button');\n",
              "      quickchartButtonEl.style.display =\n",
              "        google.colab.kernel.accessAllowed ? 'block' : 'none';\n",
              "    })();\n",
              "  </script>\n",
              "</div>\n",
              "\n",
              "    </div>\n",
              "  </div>\n"
            ]
          },
          "metadata": {},
          "execution_count": 27
        }
      ]
    },
    {
      "cell_type": "markdown",
      "source": [
        "##### Let us convert the values into the categorical"
      ],
      "metadata": {
        "id": "tycfenNIFTTH"
      }
    },
    {
      "cell_type": "code",
      "source": [
        "df_adv['Tv'].mean()"
      ],
      "metadata": {
        "colab": {
          "base_uri": "https://localhost:8080/"
        },
        "id": "xsXmdWYGFQZF",
        "outputId": "6ccf49dd-ed80-403a-ea5c-a0ce4c029365"
      },
      "execution_count": 28,
      "outputs": [
        {
          "output_type": "execute_result",
          "data": {
            "text/plain": [
              "147.0425"
            ]
          },
          "metadata": {},
          "execution_count": 28
        }
      ]
    },
    {
      "cell_type": "markdown",
      "source": [
        "If the data is greater than mean then we will replace with 'Large' otherwise keep the value of TV"
      ],
      "metadata": {
        "id": "LyID3de_GI01"
      }
    },
    {
      "cell_type": "code",
      "source": [
        "df_adv['Tv_cat'] = np.where(df_adv['Tv'] > df_adv['Tv'].mean(),'Large',df_adv['Tv'])"
      ],
      "metadata": {
        "id": "Jh-_IQS2GIPt"
      },
      "execution_count": 29,
      "outputs": []
    },
    {
      "cell_type": "code",
      "source": [
        "df_adv.head()"
      ],
      "metadata": {
        "colab": {
          "base_uri": "https://localhost:8080/",
          "height": 206
        },
        "id": "QgTM2mXmF_sR",
        "outputId": "82cea9e8-067c-497c-d1d1-78e76fef773d"
      },
      "execution_count": 30,
      "outputs": [
        {
          "output_type": "execute_result",
          "data": {
            "text/plain": [
              "      Tv  Radio  Newspaper  Sales Tv_cat\n",
              "1  230.1   37.8       69.2   22.1  Large\n",
              "2   44.5   39.3       45.1   10.4   44.5\n",
              "3   17.2   45.9       69.3    9.3   17.2\n",
              "4  151.5   41.3       58.5   18.5  Large\n",
              "5  180.8   10.8       58.4   12.9  Large"
            ],
            "text/html": [
              "\n",
              "  <div id=\"df-29619dce-2ba2-4d80-9387-21ecbf6393af\" class=\"colab-df-container\">\n",
              "    <div>\n",
              "<style scoped>\n",
              "    .dataframe tbody tr th:only-of-type {\n",
              "        vertical-align: middle;\n",
              "    }\n",
              "\n",
              "    .dataframe tbody tr th {\n",
              "        vertical-align: top;\n",
              "    }\n",
              "\n",
              "    .dataframe thead th {\n",
              "        text-align: right;\n",
              "    }\n",
              "</style>\n",
              "<table border=\"1\" class=\"dataframe\">\n",
              "  <thead>\n",
              "    <tr style=\"text-align: right;\">\n",
              "      <th></th>\n",
              "      <th>Tv</th>\n",
              "      <th>Radio</th>\n",
              "      <th>Newspaper</th>\n",
              "      <th>Sales</th>\n",
              "      <th>Tv_cat</th>\n",
              "    </tr>\n",
              "  </thead>\n",
              "  <tbody>\n",
              "    <tr>\n",
              "      <th>1</th>\n",
              "      <td>230.1</td>\n",
              "      <td>37.8</td>\n",
              "      <td>69.2</td>\n",
              "      <td>22.1</td>\n",
              "      <td>Large</td>\n",
              "    </tr>\n",
              "    <tr>\n",
              "      <th>2</th>\n",
              "      <td>44.5</td>\n",
              "      <td>39.3</td>\n",
              "      <td>45.1</td>\n",
              "      <td>10.4</td>\n",
              "      <td>44.5</td>\n",
              "    </tr>\n",
              "    <tr>\n",
              "      <th>3</th>\n",
              "      <td>17.2</td>\n",
              "      <td>45.9</td>\n",
              "      <td>69.3</td>\n",
              "      <td>9.3</td>\n",
              "      <td>17.2</td>\n",
              "    </tr>\n",
              "    <tr>\n",
              "      <th>4</th>\n",
              "      <td>151.5</td>\n",
              "      <td>41.3</td>\n",
              "      <td>58.5</td>\n",
              "      <td>18.5</td>\n",
              "      <td>Large</td>\n",
              "    </tr>\n",
              "    <tr>\n",
              "      <th>5</th>\n",
              "      <td>180.8</td>\n",
              "      <td>10.8</td>\n",
              "      <td>58.4</td>\n",
              "      <td>12.9</td>\n",
              "      <td>Large</td>\n",
              "    </tr>\n",
              "  </tbody>\n",
              "</table>\n",
              "</div>\n",
              "    <div class=\"colab-df-buttons\">\n",
              "\n",
              "  <div class=\"colab-df-container\">\n",
              "    <button class=\"colab-df-convert\" onclick=\"convertToInteractive('df-29619dce-2ba2-4d80-9387-21ecbf6393af')\"\n",
              "            title=\"Convert this dataframe to an interactive table.\"\n",
              "            style=\"display:none;\">\n",
              "\n",
              "  <svg xmlns=\"http://www.w3.org/2000/svg\" height=\"24px\" viewBox=\"0 -960 960 960\">\n",
              "    <path d=\"M120-120v-720h720v720H120Zm60-500h600v-160H180v160Zm220 220h160v-160H400v160Zm0 220h160v-160H400v160ZM180-400h160v-160H180v160Zm440 0h160v-160H620v160ZM180-180h160v-160H180v160Zm440 0h160v-160H620v160Z\"/>\n",
              "  </svg>\n",
              "    </button>\n",
              "\n",
              "  <style>\n",
              "    .colab-df-container {\n",
              "      display:flex;\n",
              "      gap: 12px;\n",
              "    }\n",
              "\n",
              "    .colab-df-convert {\n",
              "      background-color: #E8F0FE;\n",
              "      border: none;\n",
              "      border-radius: 50%;\n",
              "      cursor: pointer;\n",
              "      display: none;\n",
              "      fill: #1967D2;\n",
              "      height: 32px;\n",
              "      padding: 0 0 0 0;\n",
              "      width: 32px;\n",
              "    }\n",
              "\n",
              "    .colab-df-convert:hover {\n",
              "      background-color: #E2EBFA;\n",
              "      box-shadow: 0px 1px 2px rgba(60, 64, 67, 0.3), 0px 1px 3px 1px rgba(60, 64, 67, 0.15);\n",
              "      fill: #174EA6;\n",
              "    }\n",
              "\n",
              "    .colab-df-buttons div {\n",
              "      margin-bottom: 4px;\n",
              "    }\n",
              "\n",
              "    [theme=dark] .colab-df-convert {\n",
              "      background-color: #3B4455;\n",
              "      fill: #D2E3FC;\n",
              "    }\n",
              "\n",
              "    [theme=dark] .colab-df-convert:hover {\n",
              "      background-color: #434B5C;\n",
              "      box-shadow: 0px 1px 3px 1px rgba(0, 0, 0, 0.15);\n",
              "      filter: drop-shadow(0px 1px 2px rgba(0, 0, 0, 0.3));\n",
              "      fill: #FFFFFF;\n",
              "    }\n",
              "  </style>\n",
              "\n",
              "    <script>\n",
              "      const buttonEl =\n",
              "        document.querySelector('#df-29619dce-2ba2-4d80-9387-21ecbf6393af button.colab-df-convert');\n",
              "      buttonEl.style.display =\n",
              "        google.colab.kernel.accessAllowed ? 'block' : 'none';\n",
              "\n",
              "      async function convertToInteractive(key) {\n",
              "        const element = document.querySelector('#df-29619dce-2ba2-4d80-9387-21ecbf6393af');\n",
              "        const dataTable =\n",
              "          await google.colab.kernel.invokeFunction('convertToInteractive',\n",
              "                                                    [key], {});\n",
              "        if (!dataTable) return;\n",
              "\n",
              "        const docLinkHtml = 'Like what you see? Visit the ' +\n",
              "          '<a target=\"_blank\" href=https://colab.research.google.com/notebooks/data_table.ipynb>data table notebook</a>'\n",
              "          + ' to learn more about interactive tables.';\n",
              "        element.innerHTML = '';\n",
              "        dataTable['output_type'] = 'display_data';\n",
              "        await google.colab.output.renderOutput(dataTable, element);\n",
              "        const docLink = document.createElement('div');\n",
              "        docLink.innerHTML = docLinkHtml;\n",
              "        element.appendChild(docLink);\n",
              "      }\n",
              "    </script>\n",
              "  </div>\n",
              "\n",
              "\n",
              "<div id=\"df-3e011d4a-ecac-45dc-8a06-5464c6ddbe70\">\n",
              "  <button class=\"colab-df-quickchart\" onclick=\"quickchart('df-3e011d4a-ecac-45dc-8a06-5464c6ddbe70')\"\n",
              "            title=\"Suggest charts\"\n",
              "            style=\"display:none;\">\n",
              "\n",
              "<svg xmlns=\"http://www.w3.org/2000/svg\" height=\"24px\"viewBox=\"0 0 24 24\"\n",
              "     width=\"24px\">\n",
              "    <g>\n",
              "        <path d=\"M19 3H5c-1.1 0-2 .9-2 2v14c0 1.1.9 2 2 2h14c1.1 0 2-.9 2-2V5c0-1.1-.9-2-2-2zM9 17H7v-7h2v7zm4 0h-2V7h2v10zm4 0h-2v-4h2v4z\"/>\n",
              "    </g>\n",
              "</svg>\n",
              "  </button>\n",
              "\n",
              "<style>\n",
              "  .colab-df-quickchart {\n",
              "      --bg-color: #E8F0FE;\n",
              "      --fill-color: #1967D2;\n",
              "      --hover-bg-color: #E2EBFA;\n",
              "      --hover-fill-color: #174EA6;\n",
              "      --disabled-fill-color: #AAA;\n",
              "      --disabled-bg-color: #DDD;\n",
              "  }\n",
              "\n",
              "  [theme=dark] .colab-df-quickchart {\n",
              "      --bg-color: #3B4455;\n",
              "      --fill-color: #D2E3FC;\n",
              "      --hover-bg-color: #434B5C;\n",
              "      --hover-fill-color: #FFFFFF;\n",
              "      --disabled-bg-color: #3B4455;\n",
              "      --disabled-fill-color: #666;\n",
              "  }\n",
              "\n",
              "  .colab-df-quickchart {\n",
              "    background-color: var(--bg-color);\n",
              "    border: none;\n",
              "    border-radius: 50%;\n",
              "    cursor: pointer;\n",
              "    display: none;\n",
              "    fill: var(--fill-color);\n",
              "    height: 32px;\n",
              "    padding: 0;\n",
              "    width: 32px;\n",
              "  }\n",
              "\n",
              "  .colab-df-quickchart:hover {\n",
              "    background-color: var(--hover-bg-color);\n",
              "    box-shadow: 0 1px 2px rgba(60, 64, 67, 0.3), 0 1px 3px 1px rgba(60, 64, 67, 0.15);\n",
              "    fill: var(--button-hover-fill-color);\n",
              "  }\n",
              "\n",
              "  .colab-df-quickchart-complete:disabled,\n",
              "  .colab-df-quickchart-complete:disabled:hover {\n",
              "    background-color: var(--disabled-bg-color);\n",
              "    fill: var(--disabled-fill-color);\n",
              "    box-shadow: none;\n",
              "  }\n",
              "\n",
              "  .colab-df-spinner {\n",
              "    border: 2px solid var(--fill-color);\n",
              "    border-color: transparent;\n",
              "    border-bottom-color: var(--fill-color);\n",
              "    animation:\n",
              "      spin 1s steps(1) infinite;\n",
              "  }\n",
              "\n",
              "  @keyframes spin {\n",
              "    0% {\n",
              "      border-color: transparent;\n",
              "      border-bottom-color: var(--fill-color);\n",
              "      border-left-color: var(--fill-color);\n",
              "    }\n",
              "    20% {\n",
              "      border-color: transparent;\n",
              "      border-left-color: var(--fill-color);\n",
              "      border-top-color: var(--fill-color);\n",
              "    }\n",
              "    30% {\n",
              "      border-color: transparent;\n",
              "      border-left-color: var(--fill-color);\n",
              "      border-top-color: var(--fill-color);\n",
              "      border-right-color: var(--fill-color);\n",
              "    }\n",
              "    40% {\n",
              "      border-color: transparent;\n",
              "      border-right-color: var(--fill-color);\n",
              "      border-top-color: var(--fill-color);\n",
              "    }\n",
              "    60% {\n",
              "      border-color: transparent;\n",
              "      border-right-color: var(--fill-color);\n",
              "    }\n",
              "    80% {\n",
              "      border-color: transparent;\n",
              "      border-right-color: var(--fill-color);\n",
              "      border-bottom-color: var(--fill-color);\n",
              "    }\n",
              "    90% {\n",
              "      border-color: transparent;\n",
              "      border-bottom-color: var(--fill-color);\n",
              "    }\n",
              "  }\n",
              "</style>\n",
              "\n",
              "  <script>\n",
              "    async function quickchart(key) {\n",
              "      const quickchartButtonEl =\n",
              "        document.querySelector('#' + key + ' button');\n",
              "      quickchartButtonEl.disabled = true;  // To prevent multiple clicks.\n",
              "      quickchartButtonEl.classList.add('colab-df-spinner');\n",
              "      try {\n",
              "        const charts = await google.colab.kernel.invokeFunction(\n",
              "            'suggestCharts', [key], {});\n",
              "      } catch (error) {\n",
              "        console.error('Error during call to suggestCharts:', error);\n",
              "      }\n",
              "      quickchartButtonEl.classList.remove('colab-df-spinner');\n",
              "      quickchartButtonEl.classList.add('colab-df-quickchart-complete');\n",
              "    }\n",
              "    (() => {\n",
              "      let quickchartButtonEl =\n",
              "        document.querySelector('#df-3e011d4a-ecac-45dc-8a06-5464c6ddbe70 button');\n",
              "      quickchartButtonEl.style.display =\n",
              "        google.colab.kernel.accessAllowed ? 'block' : 'none';\n",
              "    })();\n",
              "  </script>\n",
              "</div>\n",
              "\n",
              "    </div>\n",
              "  </div>\n"
            ]
          },
          "metadata": {},
          "execution_count": 30
        }
      ]
    },
    {
      "cell_type": "markdown",
      "source": [
        "## np.where(condition,replace value if cond is true,if ccondition is false)"
      ],
      "metadata": {
        "id": "bd8cZMJ3In1H"
      }
    },
    {
      "cell_type": "code",
      "source": [
        "df_adv['Tv_cat'] = np.where(df_adv['Tv'] <= df_adv['Tv'].mean(),'Small',df_adv['Tv_cat'])"
      ],
      "metadata": {
        "id": "s7fJUvQ_H89C"
      },
      "execution_count": 31,
      "outputs": []
    },
    {
      "cell_type": "code",
      "source": [
        "X = df_adv.drop(columns='Sales')\n",
        "y= df_adv['Sales']"
      ],
      "metadata": {
        "id": "CTku52ECQAl2"
      },
      "execution_count": 32,
      "outputs": []
    },
    {
      "cell_type": "code",
      "source": [
        "x_train,x_test,y_train,y_test=train_test_split(X,y,test_size=0.3,random_state=42)\n"
      ],
      "metadata": {
        "id": "O113LhHSJKw5"
      },
      "execution_count": 33,
      "outputs": []
    },
    {
      "cell_type": "code",
      "source": [
        "x_train"
      ],
      "metadata": {
        "id": "VuHq4cS2P6E8"
      },
      "execution_count": null,
      "outputs": []
    },
    {
      "cell_type": "code",
      "source": [
        "from sklearn.preprocessing import LabelEncoder\n",
        "le = LabelEncoder();\n",
        "le.fit(x_train['Tv_cat'])\n",
        "x_train['Tv_cat']=le.transform(x_train['Tv_cat'])\n",
        "x_test['Tv_cat']=le.transform(x_test['Tv_cat'])\n"
      ],
      "metadata": {
        "id": "vCI7HPIDIlZ3"
      },
      "execution_count": 35,
      "outputs": []
    },
    {
      "cell_type": "code",
      "source": [
        "x_train[:5]"
      ],
      "metadata": {
        "colab": {
          "base_uri": "https://localhost:8080/",
          "height": 206
        },
        "id": "jsbf7xoEQViV",
        "outputId": "0428c6eb-6f28-4ff4-8ff4-3c0597ece332"
      },
      "execution_count": 36,
      "outputs": [
        {
          "output_type": "execute_result",
          "data": {
            "text/plain": [
              "        Tv  Radio  Newspaper  Tv_cat\n",
              "170  284.3   10.6        6.4       0\n",
              "98   184.9   21.0       22.0       0\n",
              "32   112.9   17.4       38.6       1\n",
              "13    23.8   35.1       65.9       1\n",
              "36   290.7    4.1        8.5       0"
            ],
            "text/html": [
              "\n",
              "  <div id=\"df-e7aceeff-1817-4685-b8cd-dfb502dbc9dc\" class=\"colab-df-container\">\n",
              "    <div>\n",
              "<style scoped>\n",
              "    .dataframe tbody tr th:only-of-type {\n",
              "        vertical-align: middle;\n",
              "    }\n",
              "\n",
              "    .dataframe tbody tr th {\n",
              "        vertical-align: top;\n",
              "    }\n",
              "\n",
              "    .dataframe thead th {\n",
              "        text-align: right;\n",
              "    }\n",
              "</style>\n",
              "<table border=\"1\" class=\"dataframe\">\n",
              "  <thead>\n",
              "    <tr style=\"text-align: right;\">\n",
              "      <th></th>\n",
              "      <th>Tv</th>\n",
              "      <th>Radio</th>\n",
              "      <th>Newspaper</th>\n",
              "      <th>Tv_cat</th>\n",
              "    </tr>\n",
              "  </thead>\n",
              "  <tbody>\n",
              "    <tr>\n",
              "      <th>170</th>\n",
              "      <td>284.3</td>\n",
              "      <td>10.6</td>\n",
              "      <td>6.4</td>\n",
              "      <td>0</td>\n",
              "    </tr>\n",
              "    <tr>\n",
              "      <th>98</th>\n",
              "      <td>184.9</td>\n",
              "      <td>21.0</td>\n",
              "      <td>22.0</td>\n",
              "      <td>0</td>\n",
              "    </tr>\n",
              "    <tr>\n",
              "      <th>32</th>\n",
              "      <td>112.9</td>\n",
              "      <td>17.4</td>\n",
              "      <td>38.6</td>\n",
              "      <td>1</td>\n",
              "    </tr>\n",
              "    <tr>\n",
              "      <th>13</th>\n",
              "      <td>23.8</td>\n",
              "      <td>35.1</td>\n",
              "      <td>65.9</td>\n",
              "      <td>1</td>\n",
              "    </tr>\n",
              "    <tr>\n",
              "      <th>36</th>\n",
              "      <td>290.7</td>\n",
              "      <td>4.1</td>\n",
              "      <td>8.5</td>\n",
              "      <td>0</td>\n",
              "    </tr>\n",
              "  </tbody>\n",
              "</table>\n",
              "</div>\n",
              "    <div class=\"colab-df-buttons\">\n",
              "\n",
              "  <div class=\"colab-df-container\">\n",
              "    <button class=\"colab-df-convert\" onclick=\"convertToInteractive('df-e7aceeff-1817-4685-b8cd-dfb502dbc9dc')\"\n",
              "            title=\"Convert this dataframe to an interactive table.\"\n",
              "            style=\"display:none;\">\n",
              "\n",
              "  <svg xmlns=\"http://www.w3.org/2000/svg\" height=\"24px\" viewBox=\"0 -960 960 960\">\n",
              "    <path d=\"M120-120v-720h720v720H120Zm60-500h600v-160H180v160Zm220 220h160v-160H400v160Zm0 220h160v-160H400v160ZM180-400h160v-160H180v160Zm440 0h160v-160H620v160ZM180-180h160v-160H180v160Zm440 0h160v-160H620v160Z\"/>\n",
              "  </svg>\n",
              "    </button>\n",
              "\n",
              "  <style>\n",
              "    .colab-df-container {\n",
              "      display:flex;\n",
              "      gap: 12px;\n",
              "    }\n",
              "\n",
              "    .colab-df-convert {\n",
              "      background-color: #E8F0FE;\n",
              "      border: none;\n",
              "      border-radius: 50%;\n",
              "      cursor: pointer;\n",
              "      display: none;\n",
              "      fill: #1967D2;\n",
              "      height: 32px;\n",
              "      padding: 0 0 0 0;\n",
              "      width: 32px;\n",
              "    }\n",
              "\n",
              "    .colab-df-convert:hover {\n",
              "      background-color: #E2EBFA;\n",
              "      box-shadow: 0px 1px 2px rgba(60, 64, 67, 0.3), 0px 1px 3px 1px rgba(60, 64, 67, 0.15);\n",
              "      fill: #174EA6;\n",
              "    }\n",
              "\n",
              "    .colab-df-buttons div {\n",
              "      margin-bottom: 4px;\n",
              "    }\n",
              "\n",
              "    [theme=dark] .colab-df-convert {\n",
              "      background-color: #3B4455;\n",
              "      fill: #D2E3FC;\n",
              "    }\n",
              "\n",
              "    [theme=dark] .colab-df-convert:hover {\n",
              "      background-color: #434B5C;\n",
              "      box-shadow: 0px 1px 3px 1px rgba(0, 0, 0, 0.15);\n",
              "      filter: drop-shadow(0px 1px 2px rgba(0, 0, 0, 0.3));\n",
              "      fill: #FFFFFF;\n",
              "    }\n",
              "  </style>\n",
              "\n",
              "    <script>\n",
              "      const buttonEl =\n",
              "        document.querySelector('#df-e7aceeff-1817-4685-b8cd-dfb502dbc9dc button.colab-df-convert');\n",
              "      buttonEl.style.display =\n",
              "        google.colab.kernel.accessAllowed ? 'block' : 'none';\n",
              "\n",
              "      async function convertToInteractive(key) {\n",
              "        const element = document.querySelector('#df-e7aceeff-1817-4685-b8cd-dfb502dbc9dc');\n",
              "        const dataTable =\n",
              "          await google.colab.kernel.invokeFunction('convertToInteractive',\n",
              "                                                    [key], {});\n",
              "        if (!dataTable) return;\n",
              "\n",
              "        const docLinkHtml = 'Like what you see? Visit the ' +\n",
              "          '<a target=\"_blank\" href=https://colab.research.google.com/notebooks/data_table.ipynb>data table notebook</a>'\n",
              "          + ' to learn more about interactive tables.';\n",
              "        element.innerHTML = '';\n",
              "        dataTable['output_type'] = 'display_data';\n",
              "        await google.colab.output.renderOutput(dataTable, element);\n",
              "        const docLink = document.createElement('div');\n",
              "        docLink.innerHTML = docLinkHtml;\n",
              "        element.appendChild(docLink);\n",
              "      }\n",
              "    </script>\n",
              "  </div>\n",
              "\n",
              "\n",
              "<div id=\"df-d0eab7af-cd4e-46b3-88bd-cb73cf62f036\">\n",
              "  <button class=\"colab-df-quickchart\" onclick=\"quickchart('df-d0eab7af-cd4e-46b3-88bd-cb73cf62f036')\"\n",
              "            title=\"Suggest charts\"\n",
              "            style=\"display:none;\">\n",
              "\n",
              "<svg xmlns=\"http://www.w3.org/2000/svg\" height=\"24px\"viewBox=\"0 0 24 24\"\n",
              "     width=\"24px\">\n",
              "    <g>\n",
              "        <path d=\"M19 3H5c-1.1 0-2 .9-2 2v14c0 1.1.9 2 2 2h14c1.1 0 2-.9 2-2V5c0-1.1-.9-2-2-2zM9 17H7v-7h2v7zm4 0h-2V7h2v10zm4 0h-2v-4h2v4z\"/>\n",
              "    </g>\n",
              "</svg>\n",
              "  </button>\n",
              "\n",
              "<style>\n",
              "  .colab-df-quickchart {\n",
              "      --bg-color: #E8F0FE;\n",
              "      --fill-color: #1967D2;\n",
              "      --hover-bg-color: #E2EBFA;\n",
              "      --hover-fill-color: #174EA6;\n",
              "      --disabled-fill-color: #AAA;\n",
              "      --disabled-bg-color: #DDD;\n",
              "  }\n",
              "\n",
              "  [theme=dark] .colab-df-quickchart {\n",
              "      --bg-color: #3B4455;\n",
              "      --fill-color: #D2E3FC;\n",
              "      --hover-bg-color: #434B5C;\n",
              "      --hover-fill-color: #FFFFFF;\n",
              "      --disabled-bg-color: #3B4455;\n",
              "      --disabled-fill-color: #666;\n",
              "  }\n",
              "\n",
              "  .colab-df-quickchart {\n",
              "    background-color: var(--bg-color);\n",
              "    border: none;\n",
              "    border-radius: 50%;\n",
              "    cursor: pointer;\n",
              "    display: none;\n",
              "    fill: var(--fill-color);\n",
              "    height: 32px;\n",
              "    padding: 0;\n",
              "    width: 32px;\n",
              "  }\n",
              "\n",
              "  .colab-df-quickchart:hover {\n",
              "    background-color: var(--hover-bg-color);\n",
              "    box-shadow: 0 1px 2px rgba(60, 64, 67, 0.3), 0 1px 3px 1px rgba(60, 64, 67, 0.15);\n",
              "    fill: var(--button-hover-fill-color);\n",
              "  }\n",
              "\n",
              "  .colab-df-quickchart-complete:disabled,\n",
              "  .colab-df-quickchart-complete:disabled:hover {\n",
              "    background-color: var(--disabled-bg-color);\n",
              "    fill: var(--disabled-fill-color);\n",
              "    box-shadow: none;\n",
              "  }\n",
              "\n",
              "  .colab-df-spinner {\n",
              "    border: 2px solid var(--fill-color);\n",
              "    border-color: transparent;\n",
              "    border-bottom-color: var(--fill-color);\n",
              "    animation:\n",
              "      spin 1s steps(1) infinite;\n",
              "  }\n",
              "\n",
              "  @keyframes spin {\n",
              "    0% {\n",
              "      border-color: transparent;\n",
              "      border-bottom-color: var(--fill-color);\n",
              "      border-left-color: var(--fill-color);\n",
              "    }\n",
              "    20% {\n",
              "      border-color: transparent;\n",
              "      border-left-color: var(--fill-color);\n",
              "      border-top-color: var(--fill-color);\n",
              "    }\n",
              "    30% {\n",
              "      border-color: transparent;\n",
              "      border-left-color: var(--fill-color);\n",
              "      border-top-color: var(--fill-color);\n",
              "      border-right-color: var(--fill-color);\n",
              "    }\n",
              "    40% {\n",
              "      border-color: transparent;\n",
              "      border-right-color: var(--fill-color);\n",
              "      border-top-color: var(--fill-color);\n",
              "    }\n",
              "    60% {\n",
              "      border-color: transparent;\n",
              "      border-right-color: var(--fill-color);\n",
              "    }\n",
              "    80% {\n",
              "      border-color: transparent;\n",
              "      border-right-color: var(--fill-color);\n",
              "      border-bottom-color: var(--fill-color);\n",
              "    }\n",
              "    90% {\n",
              "      border-color: transparent;\n",
              "      border-bottom-color: var(--fill-color);\n",
              "    }\n",
              "  }\n",
              "</style>\n",
              "\n",
              "  <script>\n",
              "    async function quickchart(key) {\n",
              "      const quickchartButtonEl =\n",
              "        document.querySelector('#' + key + ' button');\n",
              "      quickchartButtonEl.disabled = true;  // To prevent multiple clicks.\n",
              "      quickchartButtonEl.classList.add('colab-df-spinner');\n",
              "      try {\n",
              "        const charts = await google.colab.kernel.invokeFunction(\n",
              "            'suggestCharts', [key], {});\n",
              "      } catch (error) {\n",
              "        console.error('Error during call to suggestCharts:', error);\n",
              "      }\n",
              "      quickchartButtonEl.classList.remove('colab-df-spinner');\n",
              "      quickchartButtonEl.classList.add('colab-df-quickchart-complete');\n",
              "    }\n",
              "    (() => {\n",
              "      let quickchartButtonEl =\n",
              "        document.querySelector('#df-d0eab7af-cd4e-46b3-88bd-cb73cf62f036 button');\n",
              "      quickchartButtonEl.style.display =\n",
              "        google.colab.kernel.accessAllowed ? 'block' : 'none';\n",
              "    })();\n",
              "  </script>\n",
              "</div>\n",
              "\n",
              "    </div>\n",
              "  </div>\n"
            ]
          },
          "metadata": {},
          "execution_count": 36
        }
      ]
    },
    {
      "cell_type": "code",
      "source": [
        "le.classes_"
      ],
      "metadata": {
        "colab": {
          "base_uri": "https://localhost:8080/"
        },
        "id": "63kBvd5EQX7x",
        "outputId": "9e2aa0a3-aa84-4f82-e347-c423d21c79e4"
      },
      "execution_count": 37,
      "outputs": [
        {
          "output_type": "execute_result",
          "data": {
            "text/plain": [
              "array(['Large', 'Small'], dtype=object)"
            ]
          },
          "metadata": {},
          "execution_count": 37
        }
      ]
    },
    {
      "cell_type": "code",
      "source": [
        "lin_reg = LinearRegression()\n",
        "lin_reg.fit(x_train,y_train)\n",
        "lin_reg.intercept_,lin_reg.coef_"
      ],
      "metadata": {
        "colab": {
          "base_uri": "https://localhost:8080/"
        },
        "id": "AZIJa85sQb-E",
        "outputId": "1801b09f-4274-4f72-e283-ecfc52a5f086"
      },
      "execution_count": 38,
      "outputs": [
        {
          "output_type": "execute_result",
          "data": {
            "text/plain": [
              "(1.6089496005119237, array([0.0485698 , 0.19996707, 0.00639475, 0.87436539]))"
            ]
          },
          "metadata": {},
          "execution_count": 38
        }
      ]
    },
    {
      "cell_type": "code",
      "source": [],
      "metadata": {
        "id": "hHpjGtpSSiI8"
      },
      "execution_count": 38,
      "outputs": []
    },
    {
      "cell_type": "code",
      "source": [
        "y_test_pred = lin_reg.predict(x_test)\n",
        "y_train_pred=lin_reg.predict(x_train)\n",
        "\n",
        "mae_test = mean_absolute_error(y_test,y_test_pred)\n",
        "mae_train = mean_absolute_error(y_train,y_train_pred)"
      ],
      "metadata": {
        "id": "L_zIvAZ-SvUA"
      },
      "execution_count": 39,
      "outputs": []
    },
    {
      "cell_type": "code",
      "source": [
        "from sklearn.metrics import r2_score\n",
        "print(f'Performance on test data {mae_test},{r2_score(y_test,y_test_pred)}')\n",
        "print(f'Performance on train data {mae_train},{r2_score(y_train,y_train_pred)}')\n"
      ],
      "metadata": {
        "colab": {
          "base_uri": "https://localhost:8080/"
        },
        "outputId": "8dcf7001-89d2-4277-c946-2e66558c76b5",
        "id": "0IVBIMy2SvUA"
      },
      "execution_count": 40,
      "outputs": [
        {
          "output_type": "stream",
          "name": "stdout",
          "text": [
            "Performance on test data 1.4735008600049124,0.8690758991766457\n",
            "Performance on train data 1.158024358068505,0.907293956064615\n"
          ]
        }
      ]
    },
    {
      "cell_type": "code",
      "source": [
        "le.classes_"
      ],
      "metadata": {
        "colab": {
          "base_uri": "https://localhost:8080/"
        },
        "id": "glBpbUMZzGKo",
        "outputId": "6ad71111-dcc1-4e3e-9489-8e555f87da59"
      },
      "execution_count": 41,
      "outputs": [
        {
          "output_type": "execute_result",
          "data": {
            "text/plain": [
              "array(['Large', 'Small'], dtype=object)"
            ]
          },
          "metadata": {},
          "execution_count": 41
        }
      ]
    },
    {
      "cell_type": "markdown",
      "source": [
        "## Effect of feature scaling:\n",
        "* Solves the bias due to varying range of values in the feature columns and ensures all features are in same range.\n",
        "\n",
        "* We need to give equal importance to all the columns , but there is a chance that some columns will have higher values , which might lead the model to go bias towards the larger values. Thats why we need feature scaling.\n",
        "\n",
        "Consider for Eg : While predicting the price of a house consider we have area , age ,price as the columns .\n",
        "* Here area will have larger values compared to age.\n",
        "* The model will get biased towards the area column.\n",
        "\n",
        "Min-Max Scaler : (x-xmin)/(xmax-xmin)\n",
        "\n",
        "Standard Scaler : (x-mean)/sd\n",
        "\n",
        "Standard scaler can be used when u see that the data has outliers and see that the data is normally distributed other wise we can go with the min-max scaler.\n",
        "\n",
        "![image.png](data:image/png;base64,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)\n"
      ],
      "metadata": {
        "id": "n1JfDo3OzfGv"
      }
    },
    {
      "cell_type": "code",
      "source": [
        "df_house=pd.read_csv('House_price_feature_Scaling.csv',index_col=0)"
      ],
      "metadata": {
        "id": "pMlWWdz9zk5u"
      },
      "execution_count": 42,
      "outputs": []
    },
    {
      "cell_type": "code",
      "source": [
        "df_house.head()"
      ],
      "metadata": {
        "colab": {
          "base_uri": "https://localhost:8080/",
          "height": 206
        },
        "id": "ImL7kQeS4Vcx",
        "outputId": "6f2459e9-3c49-45ec-8ac8-6ac3fb126154"
      },
      "execution_count": 43,
      "outputs": [
        {
          "output_type": "execute_result",
          "data": {
            "text/plain": [
              "   Bedrooms  SquareFootage  AgeOfHouse  HousePrice\n",
              "0         4           2982          20      257100\n",
              "1         5           1000          32      171800\n",
              "2         3           2663           7      227450\n",
              "3         5           1579          41      199850\n",
              "4         5           1302          33      186800"
            ],
            "text/html": [
              "\n",
              "  <div id=\"df-1d109f8b-db0a-47be-b5f3-3a159dcfcbc5\" class=\"colab-df-container\">\n",
              "    <div>\n",
              "<style scoped>\n",
              "    .dataframe tbody tr th:only-of-type {\n",
              "        vertical-align: middle;\n",
              "    }\n",
              "\n",
              "    .dataframe tbody tr th {\n",
              "        vertical-align: top;\n",
              "    }\n",
              "\n",
              "    .dataframe thead th {\n",
              "        text-align: right;\n",
              "    }\n",
              "</style>\n",
              "<table border=\"1\" class=\"dataframe\">\n",
              "  <thead>\n",
              "    <tr style=\"text-align: right;\">\n",
              "      <th></th>\n",
              "      <th>Bedrooms</th>\n",
              "      <th>SquareFootage</th>\n",
              "      <th>AgeOfHouse</th>\n",
              "      <th>HousePrice</th>\n",
              "    </tr>\n",
              "  </thead>\n",
              "  <tbody>\n",
              "    <tr>\n",
              "      <th>0</th>\n",
              "      <td>4</td>\n",
              "      <td>2982</td>\n",
              "      <td>20</td>\n",
              "      <td>257100</td>\n",
              "    </tr>\n",
              "    <tr>\n",
              "      <th>1</th>\n",
              "      <td>5</td>\n",
              "      <td>1000</td>\n",
              "      <td>32</td>\n",
              "      <td>171800</td>\n",
              "    </tr>\n",
              "    <tr>\n",
              "      <th>2</th>\n",
              "      <td>3</td>\n",
              "      <td>2663</td>\n",
              "      <td>7</td>\n",
              "      <td>227450</td>\n",
              "    </tr>\n",
              "    <tr>\n",
              "      <th>3</th>\n",
              "      <td>5</td>\n",
              "      <td>1579</td>\n",
              "      <td>41</td>\n",
              "      <td>199850</td>\n",
              "    </tr>\n",
              "    <tr>\n",
              "      <th>4</th>\n",
              "      <td>5</td>\n",
              "      <td>1302</td>\n",
              "      <td>33</td>\n",
              "      <td>186800</td>\n",
              "    </tr>\n",
              "  </tbody>\n",
              "</table>\n",
              "</div>\n",
              "    <div class=\"colab-df-buttons\">\n",
              "\n",
              "  <div class=\"colab-df-container\">\n",
              "    <button class=\"colab-df-convert\" onclick=\"convertToInteractive('df-1d109f8b-db0a-47be-b5f3-3a159dcfcbc5')\"\n",
              "            title=\"Convert this dataframe to an interactive table.\"\n",
              "            style=\"display:none;\">\n",
              "\n",
              "  <svg xmlns=\"http://www.w3.org/2000/svg\" height=\"24px\" viewBox=\"0 -960 960 960\">\n",
              "    <path d=\"M120-120v-720h720v720H120Zm60-500h600v-160H180v160Zm220 220h160v-160H400v160Zm0 220h160v-160H400v160ZM180-400h160v-160H180v160Zm440 0h160v-160H620v160ZM180-180h160v-160H180v160Zm440 0h160v-160H620v160Z\"/>\n",
              "  </svg>\n",
              "    </button>\n",
              "\n",
              "  <style>\n",
              "    .colab-df-container {\n",
              "      display:flex;\n",
              "      gap: 12px;\n",
              "    }\n",
              "\n",
              "    .colab-df-convert {\n",
              "      background-color: #E8F0FE;\n",
              "      border: none;\n",
              "      border-radius: 50%;\n",
              "      cursor: pointer;\n",
              "      display: none;\n",
              "      fill: #1967D2;\n",
              "      height: 32px;\n",
              "      padding: 0 0 0 0;\n",
              "      width: 32px;\n",
              "    }\n",
              "\n",
              "    .colab-df-convert:hover {\n",
              "      background-color: #E2EBFA;\n",
              "      box-shadow: 0px 1px 2px rgba(60, 64, 67, 0.3), 0px 1px 3px 1px rgba(60, 64, 67, 0.15);\n",
              "      fill: #174EA6;\n",
              "    }\n",
              "\n",
              "    .colab-df-buttons div {\n",
              "      margin-bottom: 4px;\n",
              "    }\n",
              "\n",
              "    [theme=dark] .colab-df-convert {\n",
              "      background-color: #3B4455;\n",
              "      fill: #D2E3FC;\n",
              "    }\n",
              "\n",
              "    [theme=dark] .colab-df-convert:hover {\n",
              "      background-color: #434B5C;\n",
              "      box-shadow: 0px 1px 3px 1px rgba(0, 0, 0, 0.15);\n",
              "      filter: drop-shadow(0px 1px 2px rgba(0, 0, 0, 0.3));\n",
              "      fill: #FFFFFF;\n",
              "    }\n",
              "  </style>\n",
              "\n",
              "    <script>\n",
              "      const buttonEl =\n",
              "        document.querySelector('#df-1d109f8b-db0a-47be-b5f3-3a159dcfcbc5 button.colab-df-convert');\n",
              "      buttonEl.style.display =\n",
              "        google.colab.kernel.accessAllowed ? 'block' : 'none';\n",
              "\n",
              "      async function convertToInteractive(key) {\n",
              "        const element = document.querySelector('#df-1d109f8b-db0a-47be-b5f3-3a159dcfcbc5');\n",
              "        const dataTable =\n",
              "          await google.colab.kernel.invokeFunction('convertToInteractive',\n",
              "                                                    [key], {});\n",
              "        if (!dataTable) return;\n",
              "\n",
              "        const docLinkHtml = 'Like what you see? Visit the ' +\n",
              "          '<a target=\"_blank\" href=https://colab.research.google.com/notebooks/data_table.ipynb>data table notebook</a>'\n",
              "          + ' to learn more about interactive tables.';\n",
              "        element.innerHTML = '';\n",
              "        dataTable['output_type'] = 'display_data';\n",
              "        await google.colab.output.renderOutput(dataTable, element);\n",
              "        const docLink = document.createElement('div');\n",
              "        docLink.innerHTML = docLinkHtml;\n",
              "        element.appendChild(docLink);\n",
              "      }\n",
              "    </script>\n",
              "  </div>\n",
              "\n",
              "\n",
              "<div id=\"df-65faf34a-3e07-443a-94b7-439457cc5865\">\n",
              "  <button class=\"colab-df-quickchart\" onclick=\"quickchart('df-65faf34a-3e07-443a-94b7-439457cc5865')\"\n",
              "            title=\"Suggest charts\"\n",
              "            style=\"display:none;\">\n",
              "\n",
              "<svg xmlns=\"http://www.w3.org/2000/svg\" height=\"24px\"viewBox=\"0 0 24 24\"\n",
              "     width=\"24px\">\n",
              "    <g>\n",
              "        <path d=\"M19 3H5c-1.1 0-2 .9-2 2v14c0 1.1.9 2 2 2h14c1.1 0 2-.9 2-2V5c0-1.1-.9-2-2-2zM9 17H7v-7h2v7zm4 0h-2V7h2v10zm4 0h-2v-4h2v4z\"/>\n",
              "    </g>\n",
              "</svg>\n",
              "  </button>\n",
              "\n",
              "<style>\n",
              "  .colab-df-quickchart {\n",
              "      --bg-color: #E8F0FE;\n",
              "      --fill-color: #1967D2;\n",
              "      --hover-bg-color: #E2EBFA;\n",
              "      --hover-fill-color: #174EA6;\n",
              "      --disabled-fill-color: #AAA;\n",
              "      --disabled-bg-color: #DDD;\n",
              "  }\n",
              "\n",
              "  [theme=dark] .colab-df-quickchart {\n",
              "      --bg-color: #3B4455;\n",
              "      --fill-color: #D2E3FC;\n",
              "      --hover-bg-color: #434B5C;\n",
              "      --hover-fill-color: #FFFFFF;\n",
              "      --disabled-bg-color: #3B4455;\n",
              "      --disabled-fill-color: #666;\n",
              "  }\n",
              "\n",
              "  .colab-df-quickchart {\n",
              "    background-color: var(--bg-color);\n",
              "    border: none;\n",
              "    border-radius: 50%;\n",
              "    cursor: pointer;\n",
              "    display: none;\n",
              "    fill: var(--fill-color);\n",
              "    height: 32px;\n",
              "    padding: 0;\n",
              "    width: 32px;\n",
              "  }\n",
              "\n",
              "  .colab-df-quickchart:hover {\n",
              "    background-color: var(--hover-bg-color);\n",
              "    box-shadow: 0 1px 2px rgba(60, 64, 67, 0.3), 0 1px 3px 1px rgba(60, 64, 67, 0.15);\n",
              "    fill: var(--button-hover-fill-color);\n",
              "  }\n",
              "\n",
              "  .colab-df-quickchart-complete:disabled,\n",
              "  .colab-df-quickchart-complete:disabled:hover {\n",
              "    background-color: var(--disabled-bg-color);\n",
              "    fill: var(--disabled-fill-color);\n",
              "    box-shadow: none;\n",
              "  }\n",
              "\n",
              "  .colab-df-spinner {\n",
              "    border: 2px solid var(--fill-color);\n",
              "    border-color: transparent;\n",
              "    border-bottom-color: var(--fill-color);\n",
              "    animation:\n",
              "      spin 1s steps(1) infinite;\n",
              "  }\n",
              "\n",
              "  @keyframes spin {\n",
              "    0% {\n",
              "      border-color: transparent;\n",
              "      border-bottom-color: var(--fill-color);\n",
              "      border-left-color: var(--fill-color);\n",
              "    }\n",
              "    20% {\n",
              "      border-color: transparent;\n",
              "      border-left-color: var(--fill-color);\n",
              "      border-top-color: var(--fill-color);\n",
              "    }\n",
              "    30% {\n",
              "      border-color: transparent;\n",
              "      border-left-color: var(--fill-color);\n",
              "      border-top-color: var(--fill-color);\n",
              "      border-right-color: var(--fill-color);\n",
              "    }\n",
              "    40% {\n",
              "      border-color: transparent;\n",
              "      border-right-color: var(--fill-color);\n",
              "      border-top-color: var(--fill-color);\n",
              "    }\n",
              "    60% {\n",
              "      border-color: transparent;\n",
              "      border-right-color: var(--fill-color);\n",
              "    }\n",
              "    80% {\n",
              "      border-color: transparent;\n",
              "      border-right-color: var(--fill-color);\n",
              "      border-bottom-color: var(--fill-color);\n",
              "    }\n",
              "    90% {\n",
              "      border-color: transparent;\n",
              "      border-bottom-color: var(--fill-color);\n",
              "    }\n",
              "  }\n",
              "</style>\n",
              "\n",
              "  <script>\n",
              "    async function quickchart(key) {\n",
              "      const quickchartButtonEl =\n",
              "        document.querySelector('#' + key + ' button');\n",
              "      quickchartButtonEl.disabled = true;  // To prevent multiple clicks.\n",
              "      quickchartButtonEl.classList.add('colab-df-spinner');\n",
              "      try {\n",
              "        const charts = await google.colab.kernel.invokeFunction(\n",
              "            'suggestCharts', [key], {});\n",
              "      } catch (error) {\n",
              "        console.error('Error during call to suggestCharts:', error);\n",
              "      }\n",
              "      quickchartButtonEl.classList.remove('colab-df-spinner');\n",
              "      quickchartButtonEl.classList.add('colab-df-quickchart-complete');\n",
              "    }\n",
              "    (() => {\n",
              "      let quickchartButtonEl =\n",
              "        document.querySelector('#df-65faf34a-3e07-443a-94b7-439457cc5865 button');\n",
              "      quickchartButtonEl.style.display =\n",
              "        google.colab.kernel.accessAllowed ? 'block' : 'none';\n",
              "    })();\n",
              "  </script>\n",
              "</div>\n",
              "\n",
              "    </div>\n",
              "  </div>\n"
            ]
          },
          "metadata": {},
          "execution_count": 43
        }
      ]
    },
    {
      "cell_type": "code",
      "source": [
        "X=df_house.drop(columns='HousePrice')\n",
        "y=df_house['HousePrice']"
      ],
      "metadata": {
        "id": "HSMzbdEw4Xqf"
      },
      "execution_count": 44,
      "outputs": []
    },
    {
      "cell_type": "code",
      "source": [
        "X.head()"
      ],
      "metadata": {
        "colab": {
          "base_uri": "https://localhost:8080/",
          "height": 206
        },
        "id": "nsWpjQNb4mOd",
        "outputId": "1ed49455-38e0-4fd6-9571-9a512c5cef4d"
      },
      "execution_count": 45,
      "outputs": [
        {
          "output_type": "execute_result",
          "data": {
            "text/plain": [
              "   Bedrooms  SquareFootage  AgeOfHouse\n",
              "0         4           2982          20\n",
              "1         5           1000          32\n",
              "2         3           2663           7\n",
              "3         5           1579          41\n",
              "4         5           1302          33"
            ],
            "text/html": [
              "\n",
              "  <div id=\"df-8e0b132a-3674-4fce-b1cc-6248efca8975\" class=\"colab-df-container\">\n",
              "    <div>\n",
              "<style scoped>\n",
              "    .dataframe tbody tr th:only-of-type {\n",
              "        vertical-align: middle;\n",
              "    }\n",
              "\n",
              "    .dataframe tbody tr th {\n",
              "        vertical-align: top;\n",
              "    }\n",
              "\n",
              "    .dataframe thead th {\n",
              "        text-align: right;\n",
              "    }\n",
              "</style>\n",
              "<table border=\"1\" class=\"dataframe\">\n",
              "  <thead>\n",
              "    <tr style=\"text-align: right;\">\n",
              "      <th></th>\n",
              "      <th>Bedrooms</th>\n",
              "      <th>SquareFootage</th>\n",
              "      <th>AgeOfHouse</th>\n",
              "    </tr>\n",
              "  </thead>\n",
              "  <tbody>\n",
              "    <tr>\n",
              "      <th>0</th>\n",
              "      <td>4</td>\n",
              "      <td>2982</td>\n",
              "      <td>20</td>\n",
              "    </tr>\n",
              "    <tr>\n",
              "      <th>1</th>\n",
              "      <td>5</td>\n",
              "      <td>1000</td>\n",
              "      <td>32</td>\n",
              "    </tr>\n",
              "    <tr>\n",
              "      <th>2</th>\n",
              "      <td>3</td>\n",
              "      <td>2663</td>\n",
              "      <td>7</td>\n",
              "    </tr>\n",
              "    <tr>\n",
              "      <th>3</th>\n",
              "      <td>5</td>\n",
              "      <td>1579</td>\n",
              "      <td>41</td>\n",
              "    </tr>\n",
              "    <tr>\n",
              "      <th>4</th>\n",
              "      <td>5</td>\n",
              "      <td>1302</td>\n",
              "      <td>33</td>\n",
              "    </tr>\n",
              "  </tbody>\n",
              "</table>\n",
              "</div>\n",
              "    <div class=\"colab-df-buttons\">\n",
              "\n",
              "  <div class=\"colab-df-container\">\n",
              "    <button class=\"colab-df-convert\" onclick=\"convertToInteractive('df-8e0b132a-3674-4fce-b1cc-6248efca8975')\"\n",
              "            title=\"Convert this dataframe to an interactive table.\"\n",
              "            style=\"display:none;\">\n",
              "\n",
              "  <svg xmlns=\"http://www.w3.org/2000/svg\" height=\"24px\" viewBox=\"0 -960 960 960\">\n",
              "    <path d=\"M120-120v-720h720v720H120Zm60-500h600v-160H180v160Zm220 220h160v-160H400v160Zm0 220h160v-160H400v160ZM180-400h160v-160H180v160Zm440 0h160v-160H620v160ZM180-180h160v-160H180v160Zm440 0h160v-160H620v160Z\"/>\n",
              "  </svg>\n",
              "    </button>\n",
              "\n",
              "  <style>\n",
              "    .colab-df-container {\n",
              "      display:flex;\n",
              "      gap: 12px;\n",
              "    }\n",
              "\n",
              "    .colab-df-convert {\n",
              "      background-color: #E8F0FE;\n",
              "      border: none;\n",
              "      border-radius: 50%;\n",
              "      cursor: pointer;\n",
              "      display: none;\n",
              "      fill: #1967D2;\n",
              "      height: 32px;\n",
              "      padding: 0 0 0 0;\n",
              "      width: 32px;\n",
              "    }\n",
              "\n",
              "    .colab-df-convert:hover {\n",
              "      background-color: #E2EBFA;\n",
              "      box-shadow: 0px 1px 2px rgba(60, 64, 67, 0.3), 0px 1px 3px 1px rgba(60, 64, 67, 0.15);\n",
              "      fill: #174EA6;\n",
              "    }\n",
              "\n",
              "    .colab-df-buttons div {\n",
              "      margin-bottom: 4px;\n",
              "    }\n",
              "\n",
              "    [theme=dark] .colab-df-convert {\n",
              "      background-color: #3B4455;\n",
              "      fill: #D2E3FC;\n",
              "    }\n",
              "\n",
              "    [theme=dark] .colab-df-convert:hover {\n",
              "      background-color: #434B5C;\n",
              "      box-shadow: 0px 1px 3px 1px rgba(0, 0, 0, 0.15);\n",
              "      filter: drop-shadow(0px 1px 2px rgba(0, 0, 0, 0.3));\n",
              "      fill: #FFFFFF;\n",
              "    }\n",
              "  </style>\n",
              "\n",
              "    <script>\n",
              "      const buttonEl =\n",
              "        document.querySelector('#df-8e0b132a-3674-4fce-b1cc-6248efca8975 button.colab-df-convert');\n",
              "      buttonEl.style.display =\n",
              "        google.colab.kernel.accessAllowed ? 'block' : 'none';\n",
              "\n",
              "      async function convertToInteractive(key) {\n",
              "        const element = document.querySelector('#df-8e0b132a-3674-4fce-b1cc-6248efca8975');\n",
              "        const dataTable =\n",
              "          await google.colab.kernel.invokeFunction('convertToInteractive',\n",
              "                                                    [key], {});\n",
              "        if (!dataTable) return;\n",
              "\n",
              "        const docLinkHtml = 'Like what you see? Visit the ' +\n",
              "          '<a target=\"_blank\" href=https://colab.research.google.com/notebooks/data_table.ipynb>data table notebook</a>'\n",
              "          + ' to learn more about interactive tables.';\n",
              "        element.innerHTML = '';\n",
              "        dataTable['output_type'] = 'display_data';\n",
              "        await google.colab.output.renderOutput(dataTable, element);\n",
              "        const docLink = document.createElement('div');\n",
              "        docLink.innerHTML = docLinkHtml;\n",
              "        element.appendChild(docLink);\n",
              "      }\n",
              "    </script>\n",
              "  </div>\n",
              "\n",
              "\n",
              "<div id=\"df-f072a4da-e71c-4203-9e43-d07cc240d9f5\">\n",
              "  <button class=\"colab-df-quickchart\" onclick=\"quickchart('df-f072a4da-e71c-4203-9e43-d07cc240d9f5')\"\n",
              "            title=\"Suggest charts\"\n",
              "            style=\"display:none;\">\n",
              "\n",
              "<svg xmlns=\"http://www.w3.org/2000/svg\" height=\"24px\"viewBox=\"0 0 24 24\"\n",
              "     width=\"24px\">\n",
              "    <g>\n",
              "        <path d=\"M19 3H5c-1.1 0-2 .9-2 2v14c0 1.1.9 2 2 2h14c1.1 0 2-.9 2-2V5c0-1.1-.9-2-2-2zM9 17H7v-7h2v7zm4 0h-2V7h2v10zm4 0h-2v-4h2v4z\"/>\n",
              "    </g>\n",
              "</svg>\n",
              "  </button>\n",
              "\n",
              "<style>\n",
              "  .colab-df-quickchart {\n",
              "      --bg-color: #E8F0FE;\n",
              "      --fill-color: #1967D2;\n",
              "      --hover-bg-color: #E2EBFA;\n",
              "      --hover-fill-color: #174EA6;\n",
              "      --disabled-fill-color: #AAA;\n",
              "      --disabled-bg-color: #DDD;\n",
              "  }\n",
              "\n",
              "  [theme=dark] .colab-df-quickchart {\n",
              "      --bg-color: #3B4455;\n",
              "      --fill-color: #D2E3FC;\n",
              "      --hover-bg-color: #434B5C;\n",
              "      --hover-fill-color: #FFFFFF;\n",
              "      --disabled-bg-color: #3B4455;\n",
              "      --disabled-fill-color: #666;\n",
              "  }\n",
              "\n",
              "  .colab-df-quickchart {\n",
              "    background-color: var(--bg-color);\n",
              "    border: none;\n",
              "    border-radius: 50%;\n",
              "    cursor: pointer;\n",
              "    display: none;\n",
              "    fill: var(--fill-color);\n",
              "    height: 32px;\n",
              "    padding: 0;\n",
              "    width: 32px;\n",
              "  }\n",
              "\n",
              "  .colab-df-quickchart:hover {\n",
              "    background-color: var(--hover-bg-color);\n",
              "    box-shadow: 0 1px 2px rgba(60, 64, 67, 0.3), 0 1px 3px 1px rgba(60, 64, 67, 0.15);\n",
              "    fill: var(--button-hover-fill-color);\n",
              "  }\n",
              "\n",
              "  .colab-df-quickchart-complete:disabled,\n",
              "  .colab-df-quickchart-complete:disabled:hover {\n",
              "    background-color: var(--disabled-bg-color);\n",
              "    fill: var(--disabled-fill-color);\n",
              "    box-shadow: none;\n",
              "  }\n",
              "\n",
              "  .colab-df-spinner {\n",
              "    border: 2px solid var(--fill-color);\n",
              "    border-color: transparent;\n",
              "    border-bottom-color: var(--fill-color);\n",
              "    animation:\n",
              "      spin 1s steps(1) infinite;\n",
              "  }\n",
              "\n",
              "  @keyframes spin {\n",
              "    0% {\n",
              "      border-color: transparent;\n",
              "      border-bottom-color: var(--fill-color);\n",
              "      border-left-color: var(--fill-color);\n",
              "    }\n",
              "    20% {\n",
              "      border-color: transparent;\n",
              "      border-left-color: var(--fill-color);\n",
              "      border-top-color: var(--fill-color);\n",
              "    }\n",
              "    30% {\n",
              "      border-color: transparent;\n",
              "      border-left-color: var(--fill-color);\n",
              "      border-top-color: var(--fill-color);\n",
              "      border-right-color: var(--fill-color);\n",
              "    }\n",
              "    40% {\n",
              "      border-color: transparent;\n",
              "      border-right-color: var(--fill-color);\n",
              "      border-top-color: var(--fill-color);\n",
              "    }\n",
              "    60% {\n",
              "      border-color: transparent;\n",
              "      border-right-color: var(--fill-color);\n",
              "    }\n",
              "    80% {\n",
              "      border-color: transparent;\n",
              "      border-right-color: var(--fill-color);\n",
              "      border-bottom-color: var(--fill-color);\n",
              "    }\n",
              "    90% {\n",
              "      border-color: transparent;\n",
              "      border-bottom-color: var(--fill-color);\n",
              "    }\n",
              "  }\n",
              "</style>\n",
              "\n",
              "  <script>\n",
              "    async function quickchart(key) {\n",
              "      const quickchartButtonEl =\n",
              "        document.querySelector('#' + key + ' button');\n",
              "      quickchartButtonEl.disabled = true;  // To prevent multiple clicks.\n",
              "      quickchartButtonEl.classList.add('colab-df-spinner');\n",
              "      try {\n",
              "        const charts = await google.colab.kernel.invokeFunction(\n",
              "            'suggestCharts', [key], {});\n",
              "      } catch (error) {\n",
              "        console.error('Error during call to suggestCharts:', error);\n",
              "      }\n",
              "      quickchartButtonEl.classList.remove('colab-df-spinner');\n",
              "      quickchartButtonEl.classList.add('colab-df-quickchart-complete');\n",
              "    }\n",
              "    (() => {\n",
              "      let quickchartButtonEl =\n",
              "        document.querySelector('#df-f072a4da-e71c-4203-9e43-d07cc240d9f5 button');\n",
              "      quickchartButtonEl.style.display =\n",
              "        google.colab.kernel.accessAllowed ? 'block' : 'none';\n",
              "    })();\n",
              "  </script>\n",
              "</div>\n",
              "\n",
              "    </div>\n",
              "  </div>\n"
            ]
          },
          "metadata": {},
          "execution_count": 45
        }
      ]
    },
    {
      "cell_type": "markdown",
      "source": [
        "#### Train"
      ],
      "metadata": {
        "id": "pgSEX0ef4yKt"
      }
    },
    {
      "cell_type": "code",
      "source": [
        "from sklearn.metrics import mean_squared_error"
      ],
      "metadata": {
        "id": "yEDl751N5vr2"
      },
      "execution_count": 49,
      "outputs": []
    },
    {
      "cell_type": "code",
      "source": [
        "x_train,x_test,y_train,y_test=train_test_split(X,y,test_size=0.3,random_state=42)"
      ],
      "metadata": {
        "id": "ORYuRusS4oC9"
      },
      "execution_count": 46,
      "outputs": []
    },
    {
      "cell_type": "code",
      "source": [
        "lin_reg = LinearRegression()\n",
        "lin_reg.fit(x_train,y_train)\n",
        "y_pred = lin_reg.predict(x_test)\n",
        "print(\"MSE :\",mean_squared_error(y_test,y_pred))"
      ],
      "metadata": {
        "colab": {
          "base_uri": "https://localhost:8080/"
        },
        "id": "Wzz6Eu-X5If4",
        "outputId": "33cb52b7-291b-4a18-bc0b-ca03053311ea"
      },
      "execution_count": 50,
      "outputs": [
        {
          "output_type": "stream",
          "name": "stdout",
          "text": [
            "MSE : 7.905640841040137e-22\n"
          ]
        }
      ]
    },
    {
      "cell_type": "markdown",
      "source": [
        "#### Let us use StandardScaler"
      ],
      "metadata": {
        "id": "5nv_LdtX6AsF"
      }
    },
    {
      "cell_type": "code",
      "source": [
        "from sklearn.preprocessing import StandardScaler\n",
        "\n",
        "scaler = StandardScaler()\n",
        "scaler.fit(x_train)\n",
        "x_train_scaled = scaler.transform(x_train)\n",
        "x_test_scaled = scaler.transform(x_test)\n",
        "\n"
      ],
      "metadata": {
        "id": "3J-kiybD5noR"
      },
      "execution_count": 54,
      "outputs": []
    },
    {
      "cell_type": "code",
      "source": [
        "x_train_scaled[:5]"
      ],
      "metadata": {
        "colab": {
          "base_uri": "https://localhost:8080/"
        },
        "id": "rlGPUlUY7D0I",
        "outputId": "bb96f4d8-3813-41e4-b2f8-867e0b60ed8a"
      },
      "execution_count": 57,
      "outputs": [
        {
          "output_type": "execute_result",
          "data": {
            "text/plain": [
              "array([[ 0.02130072,  0.48188222, -0.02836263],\n",
              "       [ 1.51235085, -0.35838148,  0.79317575],\n",
              "       [-1.46974941, -0.69579731, -0.09682417],\n",
              "       [ 0.76682578, -1.06597196, -1.60297787],\n",
              "       [ 0.02130072,  0.98800597,  0.31394503]])"
            ]
          },
          "metadata": {},
          "execution_count": 57
        }
      ]
    },
    {
      "cell_type": "code",
      "source": [
        "lin_reg_scale = LinearRegression()\n",
        "lin_reg_scale.fit(x_train_scaled,y_train)\n",
        "y_pred = lin_reg_scale.predict(x_test_scaled)\n",
        "print(\"MSE :\",mean_squared_error(y_test,y_pred))"
      ],
      "metadata": {
        "colab": {
          "base_uri": "https://localhost:8080/"
        },
        "id": "WxwehWpo6lJh",
        "outputId": "3e4ad48d-6bf0-497e-d559-74b2b1d99ed3"
      },
      "execution_count": 58,
      "outputs": [
        {
          "output_type": "stream",
          "name": "stdout",
          "text": [
            "MSE : 0.0\n"
          ]
        }
      ]
    },
    {
      "cell_type": "code",
      "source": [
        ""
      ],
      "metadata": {
        "id": "SdFghHYt6s3X"
      },
      "execution_count": null,
      "outputs": []
    }
  ]
}